{
 "cells": [
  {
   "cell_type": "code",
   "execution_count": 1,
   "source": [
    "import csv, pandas as pd, numpy as np\n",
    "import seaborn as sns\n",
    "sns.set()\n",
    "import matplotlib.pyplot as plt\n",
    "%matplotlib.inline\n",
    "import astropy"
   ],
   "outputs": [
    {
     "output_type": "stream",
     "name": "stderr",
     "text": [
      "UsageError: Line magic function `%matplotlib.inline` not found.\n"
     ]
    }
   ],
   "metadata": {
    "ExecuteTime": {
     "end_time": "2021-07-18T21:43:42.792602Z",
     "start_time": "2021-07-18T21:43:42.578957Z"
    }
   }
  },
  {
   "cell_type": "markdown",
   "source": [
    "# Task 1:\n",
    "\n",
    "Finding Average Distance to Pleiades Cluster"
   ],
   "metadata": {}
  },
  {
   "cell_type": "code",
   "execution_count": 2,
   "source": [
    "df = pd.read_csv(\"Pleiades_Cluster.csv\")"
   ],
   "outputs": [],
   "metadata": {
    "ExecuteTime": {
     "end_time": "2021-07-18T21:49:28.593625Z",
     "start_time": "2021-07-18T21:49:28.583874Z"
    }
   }
  },
  {
   "cell_type": "code",
   "execution_count": 3,
   "source": [
    "df.head()"
   ],
   "outputs": [
    {
     "output_type": "execute_result",
     "data": {
      "text/plain": [
       "        gmag         ra        dec       plx     bp_rp   lum_val   teff_val  \\\n",
       "0  15.684173  58.452096  23.485778  3.486630  2.192428  0.062333  3797.0000   \n",
       "1   7.498167  55.930096  25.080502  8.027063  0.188913       NaN  8337.3330   \n",
       "2  16.102013  57.170842  23.237979  8.509836  3.116683       NaN  3838.1667   \n",
       "3  12.923352  56.999005  24.731093  6.493298  1.591153  0.156267  4456.1650   \n",
       "4  16.454210  55.865759  24.270604  2.675075  2.346289  0.050944  3830.0100   \n",
       "\n",
       "   radius_val  \n",
       "0    0.576938  \n",
       "1         NaN  \n",
       "2         NaN  \n",
       "3    0.663230  \n",
       "4    0.512623  "
      ],
      "text/html": [
       "<div>\n",
       "<style scoped>\n",
       "    .dataframe tbody tr th:only-of-type {\n",
       "        vertical-align: middle;\n",
       "    }\n",
       "\n",
       "    .dataframe tbody tr th {\n",
       "        vertical-align: top;\n",
       "    }\n",
       "\n",
       "    .dataframe thead th {\n",
       "        text-align: right;\n",
       "    }\n",
       "</style>\n",
       "<table border=\"1\" class=\"dataframe\">\n",
       "  <thead>\n",
       "    <tr style=\"text-align: right;\">\n",
       "      <th></th>\n",
       "      <th>gmag</th>\n",
       "      <th>ra</th>\n",
       "      <th>dec</th>\n",
       "      <th>plx</th>\n",
       "      <th>bp_rp</th>\n",
       "      <th>lum_val</th>\n",
       "      <th>teff_val</th>\n",
       "      <th>radius_val</th>\n",
       "    </tr>\n",
       "  </thead>\n",
       "  <tbody>\n",
       "    <tr>\n",
       "      <th>0</th>\n",
       "      <td>15.684173</td>\n",
       "      <td>58.452096</td>\n",
       "      <td>23.485778</td>\n",
       "      <td>3.486630</td>\n",
       "      <td>2.192428</td>\n",
       "      <td>0.062333</td>\n",
       "      <td>3797.0000</td>\n",
       "      <td>0.576938</td>\n",
       "    </tr>\n",
       "    <tr>\n",
       "      <th>1</th>\n",
       "      <td>7.498167</td>\n",
       "      <td>55.930096</td>\n",
       "      <td>25.080502</td>\n",
       "      <td>8.027063</td>\n",
       "      <td>0.188913</td>\n",
       "      <td>NaN</td>\n",
       "      <td>8337.3330</td>\n",
       "      <td>NaN</td>\n",
       "    </tr>\n",
       "    <tr>\n",
       "      <th>2</th>\n",
       "      <td>16.102013</td>\n",
       "      <td>57.170842</td>\n",
       "      <td>23.237979</td>\n",
       "      <td>8.509836</td>\n",
       "      <td>3.116683</td>\n",
       "      <td>NaN</td>\n",
       "      <td>3838.1667</td>\n",
       "      <td>NaN</td>\n",
       "    </tr>\n",
       "    <tr>\n",
       "      <th>3</th>\n",
       "      <td>12.923352</td>\n",
       "      <td>56.999005</td>\n",
       "      <td>24.731093</td>\n",
       "      <td>6.493298</td>\n",
       "      <td>1.591153</td>\n",
       "      <td>0.156267</td>\n",
       "      <td>4456.1650</td>\n",
       "      <td>0.663230</td>\n",
       "    </tr>\n",
       "    <tr>\n",
       "      <th>4</th>\n",
       "      <td>16.454210</td>\n",
       "      <td>55.865759</td>\n",
       "      <td>24.270604</td>\n",
       "      <td>2.675075</td>\n",
       "      <td>2.346289</td>\n",
       "      <td>0.050944</td>\n",
       "      <td>3830.0100</td>\n",
       "      <td>0.512623</td>\n",
       "    </tr>\n",
       "  </tbody>\n",
       "</table>\n",
       "</div>"
      ]
     },
     "metadata": {},
     "execution_count": 3
    }
   ],
   "metadata": {
    "ExecuteTime": {
     "end_time": "2021-07-18T21:49:34.973472Z",
     "start_time": "2021-07-18T21:49:34.940810Z"
    }
   }
  },
  {
   "cell_type": "code",
   "execution_count": 4,
   "source": [
    "print(df.columns)\n",
    "print(\"Number of rows is\",df.size/8)"
   ],
   "outputs": [
    {
     "output_type": "stream",
     "name": "stdout",
     "text": [
      "Index(['gmag', 'ra', 'dec', 'plx', 'bp_rp', 'lum_val', 'teff_val',\n",
      "       'radius_val'],\n",
      "      dtype='object')\n",
      "Number of rows is 987.0\n"
     ]
    }
   ],
   "metadata": {
    "ExecuteTime": {
     "end_time": "2021-07-18T22:07:53.265089Z",
     "start_time": "2021-07-18T22:07:53.257661Z"
    }
   }
  },
  {
   "cell_type": "code",
   "execution_count": 5,
   "source": [
    "df.dropna()"
   ],
   "outputs": [
    {
     "output_type": "execute_result",
     "data": {
      "text/plain": [
       "          gmag         ra        dec       plx     bp_rp   lum_val   teff_val  \\\n",
       "0    15.684173  58.452096  23.485778  3.486630  2.192428  0.062333  3797.0000   \n",
       "3    12.923352  56.999005  24.731093  6.493298  1.591153  0.156267  4456.1650   \n",
       "4    16.454210  55.865759  24.270604  2.675075  2.346289  0.050944  3830.0100   \n",
       "7    12.179868  55.676693  23.502644  8.294176  1.369455  0.165852  4861.0350   \n",
       "10   14.584626  55.786541  23.251838  4.447532  1.873214  0.085902  4112.1074   \n",
       "..         ...        ...        ...       ...       ...       ...        ...   \n",
       "979   9.779877  56.710653  23.239006  6.497724  0.746530  2.140879  5945.6665   \n",
       "982  11.852763  56.920869  22.929795  5.779793  1.404244  0.513834  4526.7550   \n",
       "983   8.186488  55.930264  24.374396  7.226433  0.352915  7.839014  7963.1953   \n",
       "984  15.502478  56.525937  25.112616  2.085063  1.515169  0.141687  4443.0000   \n",
       "986  11.906063  57.765432  22.840395  4.196960  1.102659  0.816104  4947.1800   \n",
       "\n",
       "     radius_val  \n",
       "0      0.576938  \n",
       "3      0.663230  \n",
       "4      0.512623  \n",
       "7      0.574189  \n",
       "10     0.577466  \n",
       "..          ...  \n",
       "979    1.378947  \n",
       "982    1.165440  \n",
       "983    1.470986  \n",
       "984    0.635280  \n",
       "986    1.229731  \n",
       "\n",
       "[306 rows x 8 columns]"
      ],
      "text/html": [
       "<div>\n",
       "<style scoped>\n",
       "    .dataframe tbody tr th:only-of-type {\n",
       "        vertical-align: middle;\n",
       "    }\n",
       "\n",
       "    .dataframe tbody tr th {\n",
       "        vertical-align: top;\n",
       "    }\n",
       "\n",
       "    .dataframe thead th {\n",
       "        text-align: right;\n",
       "    }\n",
       "</style>\n",
       "<table border=\"1\" class=\"dataframe\">\n",
       "  <thead>\n",
       "    <tr style=\"text-align: right;\">\n",
       "      <th></th>\n",
       "      <th>gmag</th>\n",
       "      <th>ra</th>\n",
       "      <th>dec</th>\n",
       "      <th>plx</th>\n",
       "      <th>bp_rp</th>\n",
       "      <th>lum_val</th>\n",
       "      <th>teff_val</th>\n",
       "      <th>radius_val</th>\n",
       "    </tr>\n",
       "  </thead>\n",
       "  <tbody>\n",
       "    <tr>\n",
       "      <th>0</th>\n",
       "      <td>15.684173</td>\n",
       "      <td>58.452096</td>\n",
       "      <td>23.485778</td>\n",
       "      <td>3.486630</td>\n",
       "      <td>2.192428</td>\n",
       "      <td>0.062333</td>\n",
       "      <td>3797.0000</td>\n",
       "      <td>0.576938</td>\n",
       "    </tr>\n",
       "    <tr>\n",
       "      <th>3</th>\n",
       "      <td>12.923352</td>\n",
       "      <td>56.999005</td>\n",
       "      <td>24.731093</td>\n",
       "      <td>6.493298</td>\n",
       "      <td>1.591153</td>\n",
       "      <td>0.156267</td>\n",
       "      <td>4456.1650</td>\n",
       "      <td>0.663230</td>\n",
       "    </tr>\n",
       "    <tr>\n",
       "      <th>4</th>\n",
       "      <td>16.454210</td>\n",
       "      <td>55.865759</td>\n",
       "      <td>24.270604</td>\n",
       "      <td>2.675075</td>\n",
       "      <td>2.346289</td>\n",
       "      <td>0.050944</td>\n",
       "      <td>3830.0100</td>\n",
       "      <td>0.512623</td>\n",
       "    </tr>\n",
       "    <tr>\n",
       "      <th>7</th>\n",
       "      <td>12.179868</td>\n",
       "      <td>55.676693</td>\n",
       "      <td>23.502644</td>\n",
       "      <td>8.294176</td>\n",
       "      <td>1.369455</td>\n",
       "      <td>0.165852</td>\n",
       "      <td>4861.0350</td>\n",
       "      <td>0.574189</td>\n",
       "    </tr>\n",
       "    <tr>\n",
       "      <th>10</th>\n",
       "      <td>14.584626</td>\n",
       "      <td>55.786541</td>\n",
       "      <td>23.251838</td>\n",
       "      <td>4.447532</td>\n",
       "      <td>1.873214</td>\n",
       "      <td>0.085902</td>\n",
       "      <td>4112.1074</td>\n",
       "      <td>0.577466</td>\n",
       "    </tr>\n",
       "    <tr>\n",
       "      <th>...</th>\n",
       "      <td>...</td>\n",
       "      <td>...</td>\n",
       "      <td>...</td>\n",
       "      <td>...</td>\n",
       "      <td>...</td>\n",
       "      <td>...</td>\n",
       "      <td>...</td>\n",
       "      <td>...</td>\n",
       "    </tr>\n",
       "    <tr>\n",
       "      <th>979</th>\n",
       "      <td>9.779877</td>\n",
       "      <td>56.710653</td>\n",
       "      <td>23.239006</td>\n",
       "      <td>6.497724</td>\n",
       "      <td>0.746530</td>\n",
       "      <td>2.140879</td>\n",
       "      <td>5945.6665</td>\n",
       "      <td>1.378947</td>\n",
       "    </tr>\n",
       "    <tr>\n",
       "      <th>982</th>\n",
       "      <td>11.852763</td>\n",
       "      <td>56.920869</td>\n",
       "      <td>22.929795</td>\n",
       "      <td>5.779793</td>\n",
       "      <td>1.404244</td>\n",
       "      <td>0.513834</td>\n",
       "      <td>4526.7550</td>\n",
       "      <td>1.165440</td>\n",
       "    </tr>\n",
       "    <tr>\n",
       "      <th>983</th>\n",
       "      <td>8.186488</td>\n",
       "      <td>55.930264</td>\n",
       "      <td>24.374396</td>\n",
       "      <td>7.226433</td>\n",
       "      <td>0.352915</td>\n",
       "      <td>7.839014</td>\n",
       "      <td>7963.1953</td>\n",
       "      <td>1.470986</td>\n",
       "    </tr>\n",
       "    <tr>\n",
       "      <th>984</th>\n",
       "      <td>15.502478</td>\n",
       "      <td>56.525937</td>\n",
       "      <td>25.112616</td>\n",
       "      <td>2.085063</td>\n",
       "      <td>1.515169</td>\n",
       "      <td>0.141687</td>\n",
       "      <td>4443.0000</td>\n",
       "      <td>0.635280</td>\n",
       "    </tr>\n",
       "    <tr>\n",
       "      <th>986</th>\n",
       "      <td>11.906063</td>\n",
       "      <td>57.765432</td>\n",
       "      <td>22.840395</td>\n",
       "      <td>4.196960</td>\n",
       "      <td>1.102659</td>\n",
       "      <td>0.816104</td>\n",
       "      <td>4947.1800</td>\n",
       "      <td>1.229731</td>\n",
       "    </tr>\n",
       "  </tbody>\n",
       "</table>\n",
       "<p>306 rows × 8 columns</p>\n",
       "</div>"
      ]
     },
     "metadata": {},
     "execution_count": 5
    }
   ],
   "metadata": {
    "ExecuteTime": {
     "end_time": "2021-07-18T22:10:12.967494Z",
     "start_time": "2021-07-18T22:10:12.947530Z"
    }
   }
  },
  {
   "cell_type": "code",
   "execution_count": 6,
   "source": [
    "plx = df['plx']\n",
    "\n",
    "plx"
   ],
   "outputs": [
    {
     "output_type": "execute_result",
     "data": {
      "text/plain": [
       "0      3.486630\n",
       "1      8.027063\n",
       "2      8.509836\n",
       "3      6.493298\n",
       "4      2.675075\n",
       "         ...   \n",
       "982    5.779793\n",
       "983    7.226433\n",
       "984    2.085063\n",
       "985    1.730391\n",
       "986    4.196960\n",
       "Name: plx, Length: 987, dtype: float64"
      ]
     },
     "metadata": {},
     "execution_count": 6
    }
   ],
   "metadata": {
    "ExecuteTime": {
     "end_time": "2021-07-18T22:13:25.116202Z",
     "start_time": "2021-07-18T22:13:25.108792Z"
    }
   }
  },
  {
   "cell_type": "code",
   "execution_count": 7,
   "source": [
    "d = 1000/plx\n",
    "log10d = np.log10(d)\n",
    "log10d"
   ],
   "outputs": [
    {
     "output_type": "execute_result",
     "data": {
      "text/plain": [
       "0      2.457594\n",
       "1      2.095443\n",
       "2      2.070079\n",
       "3      2.187535\n",
       "4      2.572664\n",
       "         ...   \n",
       "982    2.238088\n",
       "983    2.141076\n",
       "984    2.680881\n",
       "985    2.761856\n",
       "986    2.377065\n",
       "Name: plx, Length: 987, dtype: float64"
      ]
     },
     "metadata": {},
     "execution_count": 7
    }
   ],
   "metadata": {}
  },
  {
   "cell_type": "code",
   "execution_count": 8,
   "source": [
    "gmag = df['gmag']\n",
    "print(f\"Gmag: {gmag[0]}, log_10(d): {log10d[0]}\")"
   ],
   "outputs": [
    {
     "output_type": "stream",
     "name": "stdout",
     "text": [
      "Gmag: 15.684173, log_10(d): 2.457594146564539\n"
     ]
    }
   ],
   "metadata": {}
  },
  {
   "cell_type": "code",
   "execution_count": 9,
   "source": [
    "M = gmag - 5*log10d + 5\n",
    "M = pd.Series(M, name=\"Abs_Mag\")"
   ],
   "outputs": [],
   "metadata": {}
  },
  {
   "cell_type": "code",
   "execution_count": 10,
   "source": [
    "Dist_in_ly = pd.Series(d[d<200]*3.26156, name=\"Distance in ly\")"
   ],
   "outputs": [],
   "metadata": {}
  },
  {
   "cell_type": "code",
   "execution_count": 11,
   "source": [
    "sns.displot(Dist_in_ly, kde=True)"
   ],
   "outputs": [
    {
     "output_type": "execute_result",
     "data": {
      "text/plain": [
       "<seaborn.axisgrid.FacetGrid at 0x7f6893350ee0>"
      ]
     },
     "metadata": {},
     "execution_count": 11
    },
    {
     "output_type": "display_data",
     "data": {
      "text/plain": [
       "<Figure size 360x360 with 1 Axes>"
      ],
      "image/png": "[encoded data removed]"
     },
     "metadata": {}
    }
   ],
   "metadata": {}
  },
  {
   "cell_type": "code",
   "execution_count": 12,
   "source": [
    "dist_av = np.average(Dist_in_ly)\n",
    "abs_mag_av = np.average(M.dropna())\n",
    "print(f\"Average Distance of Pleiades: {dist_av} ly\")\n",
    "print(f\"Average Absolute Magnitude: {abs_mag_av}\")"
   ],
   "outputs": [
    {
     "output_type": "stream",
     "name": "stdout",
     "text": [
      "Average Distance of Pleiades: 444.3636117305794 ly\n",
      "Average Absolute Magnitude: 9.32179920846402\n"
     ]
    }
   ],
   "metadata": {}
  },
  {
   "cell_type": "markdown",
   "source": [
    "# Task 2:\n",
    "\n",
    "Calculating Luminosity with the formulae:\n",
    "$\\frac{L}{L_0} = 10^{\\frac{4.77 - M}{2.55}}$\n",
    "\n",
    "Then calculating $Radius_{eff}$ and $Temperature_{eff}$\n"
   ],
   "metadata": {}
  },
  {
   "cell_type": "code",
   "execution_count": 13,
   "source": [
    "lum_ratio = 10**((4.77 - M)/2.55)\n",
    "lum_ratio"
   ],
   "outputs": [
    {
     "output_type": "execute_result",
     "data": {
      "text/plain": [
       "0       0.037841\n",
       "1      11.969026\n",
       "2       0.004511\n",
       "3       0.135240\n",
       "4       0.031740\n",
       "         ...    \n",
       "982     0.446754\n",
       "983     7.899593\n",
       "984     0.122188\n",
       "985     0.031119\n",
       "986     0.797392\n",
       "Name: Abs_Mag, Length: 987, dtype: float64"
      ]
     },
     "metadata": {},
     "execution_count": 13
    }
   ],
   "metadata": {}
  },
  {
   "cell_type": "code",
   "execution_count": 21,
   "source": [
    "np.average(lum_ratio)"
   ],
   "outputs": [
    {
     "output_type": "execute_result",
     "data": {
      "text/plain": [
       "2.6546701624485403"
      ]
     },
     "metadata": {},
     "execution_count": 21
    }
   ],
   "metadata": {}
  },
  {
   "cell_type": "code",
   "execution_count": 14,
   "source": [
    "bp_rp = df[\"bp_rp\"].dropna()\n",
    "bp_rp"
   ],
   "outputs": [
    {
     "output_type": "execute_result",
     "data": {
      "text/plain": [
       "0      2.192428\n",
       "1      0.188913\n",
       "2      3.116683\n",
       "3      1.591153\n",
       "4      2.346289\n",
       "         ...   \n",
       "982    1.404244\n",
       "983    0.352915\n",
       "984    1.515169\n",
       "985    2.049238\n",
       "986    1.102659\n",
       "Name: bp_rp, Length: 971, dtype: float64"
      ]
     },
     "metadata": {},
     "execution_count": 14
    }
   ],
   "metadata": {}
  },
  {
   "cell_type": "markdown",
   "source": [
    "## Temperature calulated vs Experimental"
   ],
   "metadata": {}
  },
  {
   "cell_type": "code",
   "execution_count": 15,
   "source": [
    "T_k = pd.Series(5601/((bp_rp + 0.4)**(2/3)) + 273.16, name=\"teff_calculated\") # Converting to Kelvin, assuming the formula was for Celcius\n",
    "df_temp_comp = pd.concat([T_k, df[\"teff_val\"]], axis=1)\n",
    "df_temp_comp"
   ],
   "outputs": [
    {
     "output_type": "execute_result",
     "data": {
      "text/plain": [
       "     teff_calculated   teff_val\n",
       "0        3241.141218  3797.0000\n",
       "1        8245.111351  8337.3330\n",
       "2        2695.174607  3838.1667\n",
       "3        3812.012567  4456.1650\n",
       "4        3129.225168  3830.0100\n",
       "..               ...        ...\n",
       "982      4052.378443  4526.7550\n",
       "983      7040.765218  7963.1953\n",
       "984      3905.006532  4443.0000\n",
       "985      3355.720126        NaN\n",
       "986      4542.478706  4947.1800\n",
       "\n",
       "[987 rows x 2 columns]"
      ],
      "text/html": [
       "<div>\n",
       "<style scoped>\n",
       "    .dataframe tbody tr th:only-of-type {\n",
       "        vertical-align: middle;\n",
       "    }\n",
       "\n",
       "    .dataframe tbody tr th {\n",
       "        vertical-align: top;\n",
       "    }\n",
       "\n",
       "    .dataframe thead th {\n",
       "        text-align: right;\n",
       "    }\n",
       "</style>\n",
       "<table border=\"1\" class=\"dataframe\">\n",
       "  <thead>\n",
       "    <tr style=\"text-align: right;\">\n",
       "      <th></th>\n",
       "      <th>teff_calculated</th>\n",
       "      <th>teff_val</th>\n",
       "    </tr>\n",
       "  </thead>\n",
       "  <tbody>\n",
       "    <tr>\n",
       "      <th>0</th>\n",
       "      <td>3241.141218</td>\n",
       "      <td>3797.0000</td>\n",
       "    </tr>\n",
       "    <tr>\n",
       "      <th>1</th>\n",
       "      <td>8245.111351</td>\n",
       "      <td>8337.3330</td>\n",
       "    </tr>\n",
       "    <tr>\n",
       "      <th>2</th>\n",
       "      <td>2695.174607</td>\n",
       "      <td>3838.1667</td>\n",
       "    </tr>\n",
       "    <tr>\n",
       "      <th>3</th>\n",
       "      <td>3812.012567</td>\n",
       "      <td>4456.1650</td>\n",
       "    </tr>\n",
       "    <tr>\n",
       "      <th>4</th>\n",
       "      <td>3129.225168</td>\n",
       "      <td>3830.0100</td>\n",
       "    </tr>\n",
       "    <tr>\n",
       "      <th>...</th>\n",
       "      <td>...</td>\n",
       "      <td>...</td>\n",
       "    </tr>\n",
       "    <tr>\n",
       "      <th>982</th>\n",
       "      <td>4052.378443</td>\n",
       "      <td>4526.7550</td>\n",
       "    </tr>\n",
       "    <tr>\n",
       "      <th>983</th>\n",
       "      <td>7040.765218</td>\n",
       "      <td>7963.1953</td>\n",
       "    </tr>\n",
       "    <tr>\n",
       "      <th>984</th>\n",
       "      <td>3905.006532</td>\n",
       "      <td>4443.0000</td>\n",
       "    </tr>\n",
       "    <tr>\n",
       "      <th>985</th>\n",
       "      <td>3355.720126</td>\n",
       "      <td>NaN</td>\n",
       "    </tr>\n",
       "    <tr>\n",
       "      <th>986</th>\n",
       "      <td>4542.478706</td>\n",
       "      <td>4947.1800</td>\n",
       "    </tr>\n",
       "  </tbody>\n",
       "</table>\n",
       "<p>987 rows × 2 columns</p>\n",
       "</div>"
      ]
     },
     "metadata": {},
     "execution_count": 15
    }
   ],
   "metadata": {}
  },
  {
   "cell_type": "code",
   "execution_count": 16,
   "source": [
    "rad_ratio = lum_ratio**0.5/(T_k/5778)**2\n",
    "rad_ratio"
   ],
   "outputs": [
    {
     "output_type": "execute_result",
     "data": {
      "text/plain": [
       "0      0.618214\n",
       "1      1.698992\n",
       "2      0.308684\n",
       "3      0.844889\n",
       "4      0.607418\n",
       "         ...   \n",
       "982    1.358844\n",
       "983    1.892857\n",
       "984    0.765291\n",
       "985    0.522992\n",
       "986    1.444791\n",
       "Length: 987, dtype: float64"
      ]
     },
     "metadata": {},
     "execution_count": 16
    }
   ],
   "metadata": {}
  },
  {
   "cell_type": "markdown",
   "source": [
    "## Radius Calculated vs Experimental"
   ],
   "metadata": {}
  },
  {
   "cell_type": "code",
   "execution_count": 17,
   "source": [
    "pd.concat((pd.Series(rad_ratio, name=\"radius_calc\"), df[\"radius_val\"]), axis=1)"
   ],
   "outputs": [
    {
     "output_type": "execute_result",
     "data": {
      "text/plain": [
       "     radius_calc  radius_val\n",
       "0       0.618214    0.576938\n",
       "1       1.698992         NaN\n",
       "2       0.308684         NaN\n",
       "3       0.844889    0.663230\n",
       "4       0.607418    0.512623\n",
       "..           ...         ...\n",
       "982     1.358844    1.165440\n",
       "983     1.892857    1.470986\n",
       "984     0.765291    0.635280\n",
       "985     0.522992         NaN\n",
       "986     1.444791    1.229731\n",
       "\n",
       "[987 rows x 2 columns]"
      ],
      "text/html": [
       "<div>\n",
       "<style scoped>\n",
       "    .dataframe tbody tr th:only-of-type {\n",
       "        vertical-align: middle;\n",
       "    }\n",
       "\n",
       "    .dataframe tbody tr th {\n",
       "        vertical-align: top;\n",
       "    }\n",
       "\n",
       "    .dataframe thead th {\n",
       "        text-align: right;\n",
       "    }\n",
       "</style>\n",
       "<table border=\"1\" class=\"dataframe\">\n",
       "  <thead>\n",
       "    <tr style=\"text-align: right;\">\n",
       "      <th></th>\n",
       "      <th>radius_calc</th>\n",
       "      <th>radius_val</th>\n",
       "    </tr>\n",
       "  </thead>\n",
       "  <tbody>\n",
       "    <tr>\n",
       "      <th>0</th>\n",
       "      <td>0.618214</td>\n",
       "      <td>0.576938</td>\n",
       "    </tr>\n",
       "    <tr>\n",
       "      <th>1</th>\n",
       "      <td>1.698992</td>\n",
       "      <td>NaN</td>\n",
       "    </tr>\n",
       "    <tr>\n",
       "      <th>2</th>\n",
       "      <td>0.308684</td>\n",
       "      <td>NaN</td>\n",
       "    </tr>\n",
       "    <tr>\n",
       "      <th>3</th>\n",
       "      <td>0.844889</td>\n",
       "      <td>0.663230</td>\n",
       "    </tr>\n",
       "    <tr>\n",
       "      <th>4</th>\n",
       "      <td>0.607418</td>\n",
       "      <td>0.512623</td>\n",
       "    </tr>\n",
       "    <tr>\n",
       "      <th>...</th>\n",
       "      <td>...</td>\n",
       "      <td>...</td>\n",
       "    </tr>\n",
       "    <tr>\n",
       "      <th>982</th>\n",
       "      <td>1.358844</td>\n",
       "      <td>1.165440</td>\n",
       "    </tr>\n",
       "    <tr>\n",
       "      <th>983</th>\n",
       "      <td>1.892857</td>\n",
       "      <td>1.470986</td>\n",
       "    </tr>\n",
       "    <tr>\n",
       "      <th>984</th>\n",
       "      <td>0.765291</td>\n",
       "      <td>0.635280</td>\n",
       "    </tr>\n",
       "    <tr>\n",
       "      <th>985</th>\n",
       "      <td>0.522992</td>\n",
       "      <td>NaN</td>\n",
       "    </tr>\n",
       "    <tr>\n",
       "      <th>986</th>\n",
       "      <td>1.444791</td>\n",
       "      <td>1.229731</td>\n",
       "    </tr>\n",
       "  </tbody>\n",
       "</table>\n",
       "<p>987 rows × 2 columns</p>\n",
       "</div>"
      ]
     },
     "metadata": {},
     "execution_count": 17
    }
   ],
   "metadata": {}
  },
  {
   "cell_type": "markdown",
   "source": [
    "# Task 3:\n",
    "\n",
    "Plotting the cluster itself, size on the basis of brightness."
   ],
   "metadata": {}
  },
  {
   "cell_type": "code",
   "execution_count": 18,
   "source": [
    "np.max(gmag) # The faintest body has the maximum magnitude"
   ],
   "outputs": [
    {
     "output_type": "execute_result",
     "data": {
      "text/plain": [
       "19.885986"
      ]
     },
     "metadata": {},
     "execution_count": 18
    }
   ],
   "metadata": {}
  },
  {
   "cell_type": "code",
   "execution_count": 19,
   "source": [
    "brightness = pd.Series(np.max(gmag) - gmag, name=\"Brightness\")\n",
    "brightness"
   ],
   "outputs": [
    {
     "output_type": "execute_result",
     "data": {
      "text/plain": [
       "0       4.201813\n",
       "1      12.387819\n",
       "2       3.783973\n",
       "3       6.962634\n",
       "4       3.431776\n",
       "         ...    \n",
       "982     8.033223\n",
       "983    11.699498\n",
       "984     4.383508\n",
       "985     2.463916\n",
       "986     7.979923\n",
       "Name: Brightness, Length: 987, dtype: float64"
      ]
     },
     "metadata": {},
     "execution_count": 19
    }
   ],
   "metadata": {}
  },
  {
   "cell_type": "code",
   "execution_count": 20,
   "source": [
    "fig = plt.figure(figsize=(14,10), facecolor=\"grey\")\n",
    "pleiades = fig.add_subplot(111, facecolor=\"black\")\n",
    "brightness1 = []\n",
    "for i, val in enumerate(brightness):\n",
    "    if val<=5:\n",
    "        brightness1.append(brightness[i])\n",
    "    else:\n",
    "        brightness1.append(0)\n",
    "brightness2 = []\n",
    "for i, val in enumerate(brightness):\n",
    "    if 5<val<=10:\n",
    "        brightness2.append(brightness[i])\n",
    "    else:\n",
    "        brightness2.append(0)\n",
    "brightness3 = []\n",
    "for i, val in enumerate(brightness):\n",
    "    if 10<val<=15:\n",
    "        brightness3.append(brightness[i])\n",
    "    else:\n",
    "        brightness3.append(0)\n",
    "brightness4 = []\n",
    "for i, val in enumerate(brightness):\n",
    "    if val>15:\n",
    "        brightness4.append(brightness[i])\n",
    "    else:\n",
    "        brightness4.append(0)\n",
    "\n",
    "pleiades.scatter(df[\"ra\"], df[\"dec\"], s=brightness1, color=\"yellow\", label=\"s <= 5\")\n",
    "pleiades.scatter(df[\"ra\"], df[\"dec\"], s=brightness2, color=\"blue\", label=\"5 < s <= 10\")\n",
    "pleiades.scatter(df[\"ra\"], df[\"dec\"], s=brightness3, color=\"cyan\", label=\"10 < s <= 15\")\n",
    "pleiades.scatter(df[\"ra\"], df[\"dec\"], s=brightness4, color=\"red\", label=\"15 < s\")\n",
    "pleiades.set(title=\"Apparent View of Pleiades\")\n",
    "pleiades.grid(c='#727272')\n",
    "pleiades.set_xlabel(\"RA\")\n",
    "pleiades.set_ylabel(\"Dec\")\n",
    "pleiades.legend()"
   ],
   "outputs": [
    {
     "output_type": "execute_result",
     "data": {
      "text/plain": [
       "<matplotlib.legend.Legend at 0x7f689298d640>"
      ]
     },
     "metadata": {},
     "execution_count": 20
    },
    {
     "output_type": "display_data",
     "data": {
      "text/plain": [
       "<Figure size 1008x720 with 1 Axes>"
      ],
      "image/png": "[encoded data removed]"
     },
     "metadata": {}
    }
   ],
   "metadata": {}
  },
  {
   "cell_type": "markdown",
   "source": [
    "# Task 4:\n",
    "\n",
    "Plotting an HR Diagram for Pleiades Cluster"
   ],
   "metadata": {}
  },
  {
   "cell_type": "code",
   "execution_count": 206,
   "source": [
    "df_hr = pd.concat((df[\"bp_rp\"], M), axis=1)\n",
    "df_hr"
   ],
   "outputs": [
    {
     "output_type": "execute_result",
     "data": {
      "text/plain": [
       "        bp_rp    Abs_Mag\n",
       "0    2.192428   8.396202\n",
       "1    0.188913   2.020950\n",
       "2    3.116683  10.751619\n",
       "3    1.591153   6.985679\n",
       "4    2.346289   8.590890\n",
       "..        ...        ...\n",
       "982  1.404244   5.662324\n",
       "983  0.352915   2.481108\n",
       "984  1.515169   7.098074\n",
       "985  2.049238   8.612791\n",
       "986  1.102659   5.020737\n",
       "\n",
       "[987 rows x 2 columns]"
      ],
      "text/html": [
       "<div>\n",
       "<style scoped>\n",
       "    .dataframe tbody tr th:only-of-type {\n",
       "        vertical-align: middle;\n",
       "    }\n",
       "\n",
       "    .dataframe tbody tr th {\n",
       "        vertical-align: top;\n",
       "    }\n",
       "\n",
       "    .dataframe thead th {\n",
       "        text-align: right;\n",
       "    }\n",
       "</style>\n",
       "<table border=\"1\" class=\"dataframe\">\n",
       "  <thead>\n",
       "    <tr style=\"text-align: right;\">\n",
       "      <th></th>\n",
       "      <th>bp_rp</th>\n",
       "      <th>Abs_Mag</th>\n",
       "    </tr>\n",
       "  </thead>\n",
       "  <tbody>\n",
       "    <tr>\n",
       "      <th>0</th>\n",
       "      <td>2.192428</td>\n",
       "      <td>8.396202</td>\n",
       "    </tr>\n",
       "    <tr>\n",
       "      <th>1</th>\n",
       "      <td>0.188913</td>\n",
       "      <td>2.020950</td>\n",
       "    </tr>\n",
       "    <tr>\n",
       "      <th>2</th>\n",
       "      <td>3.116683</td>\n",
       "      <td>10.751619</td>\n",
       "    </tr>\n",
       "    <tr>\n",
       "      <th>3</th>\n",
       "      <td>1.591153</td>\n",
       "      <td>6.985679</td>\n",
       "    </tr>\n",
       "    <tr>\n",
       "      <th>4</th>\n",
       "      <td>2.346289</td>\n",
       "      <td>8.590890</td>\n",
       "    </tr>\n",
       "    <tr>\n",
       "      <th>...</th>\n",
       "      <td>...</td>\n",
       "      <td>...</td>\n",
       "    </tr>\n",
       "    <tr>\n",
       "      <th>982</th>\n",
       "      <td>1.404244</td>\n",
       "      <td>5.662324</td>\n",
       "    </tr>\n",
       "    <tr>\n",
       "      <th>983</th>\n",
       "      <td>0.352915</td>\n",
       "      <td>2.481108</td>\n",
       "    </tr>\n",
       "    <tr>\n",
       "      <th>984</th>\n",
       "      <td>1.515169</td>\n",
       "      <td>7.098074</td>\n",
       "    </tr>\n",
       "    <tr>\n",
       "      <th>985</th>\n",
       "      <td>2.049238</td>\n",
       "      <td>8.612791</td>\n",
       "    </tr>\n",
       "    <tr>\n",
       "      <th>986</th>\n",
       "      <td>1.102659</td>\n",
       "      <td>5.020737</td>\n",
       "    </tr>\n",
       "  </tbody>\n",
       "</table>\n",
       "<p>987 rows × 2 columns</p>\n",
       "</div>"
      ]
     },
     "metadata": {},
     "execution_count": 206
    }
   ],
   "metadata": {}
  },
  {
   "cell_type": "code",
   "execution_count": 45,
   "source": [
    "fig_hr = plt.figure(figsize=(14,10), facecolor=\"grey\")\n",
    "sub.scatter(df[\"bp_rp\"], M, s=2, color=\"#FF9E00\")\n",
    "sub = fig_hr.add_subplot(111, facecolor=\"#000000\")\n",
    "sub.set_ylim(15,-2.5)\n",
    "sub.grid()\n",
    "sub.set_title(\"H-R Diagram\\n(Pleiades Cluster)\")\n",
    "sub.title.set_fontsize(16)\n",
    "sub.set_xlabel('Spectral Class\\n(BP_RP Values)')\n",
    "sub.xaxis.label.set_fontsize(16)\n",
    "sub.set_ylabel('Absolute Magnitude')\n",
    "sub.yaxis.label.set_fontsize(16)\n",
    "sub.scatter(df[\"bp_rp\"], M, s=2, c=color_arr)\n",
    "# sub.scatter(df[\"bp_rp\"], M, s=2, color=\"#FF9E00\")\n",
    "sub.annotate(\"Turnoff Point\", (0.6,2.8), color=\"#0061FF\")\n"
   ],
   "outputs": [
    {
     "output_type": "execute_result",
     "data": {
      "text/plain": [
       "Text(0.6, 2.8, 'Turnoff Point')"
      ]
     },
     "metadata": {},
     "execution_count": 45
    },
    {
     "output_type": "display_data",
     "data": {
      "text/plain": [
       "<Figure size 1008x720 with 1 Axes>"
      ],
      "image/png": "[encoded data removed]"
     },
     "metadata": {}
    }
   ],
   "metadata": {}
  },
  {
   "cell_type": "markdown",
   "source": [
    "To determine the age of a globular cluster, astronomers rely on the assumption that all the stars in the cluster formed at the same time and are the same distance from us. But the stars don’t all have the same mass. Because mass influences a star’s longevity, a star cluster gives us a special snapshot of a bunch of stars that are all the same age but at different points in their evolution."
   ],
   "metadata": {}
  },
  {
   "cell_type": "markdown",
   "source": [
    "While main sequence stars trace a diagonal line on the H-R diagram, red giant stars create a horizontal line in varying shades of red. This is called the red giant branch. As more of the big stars move onto the red giant branch, the top part of the main sequence disappears. This is called the main sequence turnoff. Because we know how a star’s mass determines how quickly it burns its fuel and where it falls on the diagram, we can use the main sequence turnoff to figure out the age of the cluster."
   ],
   "metadata": {}
  },
  {
   "cell_type": "markdown",
   "source": [
    "Age of Pleiades is around 150 million years, accepted universally (no pun intended)"
   ],
   "metadata": {}
  },
  {
   "cell_type": "markdown",
   "source": [
    "\n",
    "![isochrones](./Isochrones_of_several_ages.png)"
   ],
   "metadata": {}
  },
  {
   "cell_type": "markdown",
   "source": [
    "# Calculating Turnoff mass\n",
    "\n",
    "This can be done by using the concept of Luminosity vs Mass empirical relationship:\n",
    "\n",
    "$$\\frac{L}{L_{sun}} = (\\frac{M}{M_{sun}})^n$$\n",
    "n is dependant upon the type of stellar object. As we want to find the turnoff mass, we need to find the mass of the stars near the turnoff point luminosity, which is around 2.8"
   ],
   "metadata": {}
  },
  {
   "cell_type": "code",
   "execution_count": 86,
   "source": [
    "n = 2.5\n",
    "# assuming red_dwarfs...closest age calculated to the universally accepted one"
   ],
   "outputs": [],
   "metadata": {}
  },
  {
   "cell_type": "code",
   "execution_count": 80,
   "source": [
    "mass_ratio = (lum_ratio)**(1/n)\n",
    "mass_ratio = pd.Series(mass_ratio, name=\"mass_ratio\")"
   ],
   "outputs": [],
   "metadata": {}
  },
  {
   "cell_type": "code",
   "execution_count": 81,
   "source": [
    "df_mass = pd.concat((mass_ratio, lum_ratio), axis=1)"
   ],
   "outputs": [],
   "metadata": {}
  },
  {
   "cell_type": "code",
   "execution_count": 82,
   "source": [
    "df_mass.shape"
   ],
   "outputs": [
    {
     "output_type": "execute_result",
     "data": {
      "text/plain": [
       "(987, 2)"
      ]
     },
     "metadata": {},
     "execution_count": 82
    }
   ],
   "metadata": {}
  },
  {
   "cell_type": "code",
   "execution_count": 83,
   "source": [
    "for i,val in enumerate(df_mass[\"Abs_Mag\"]):\n",
    "    if abs(val-2.8) < 0.1:\n",
    "        print(\"\\n\\n\")\n",
    "        print(df_mass.loc[i])"
   ],
   "outputs": [
    {
     "output_type": "stream",
     "name": "stdout",
     "text": [
      "\n",
      "\n",
      "\n",
      "mass_ratio    1.529732\n",
      "Abs_Mag       2.894267\n",
      "Name: 177, dtype: float64\n",
      "\n",
      "\n",
      "\n",
      "mass_ratio    1.499584\n",
      "Abs_Mag       2.753767\n",
      "Name: 621, dtype: float64\n"
     ]
    }
   ],
   "metadata": {}
  },
  {
   "cell_type": "markdown",
   "source": [
    "Now we know the mass ratio, which will then can be used to find the age of the cluster\n",
    "\n",
    "$$\\frac{t_{MS}}{t_{Sun}} = (\\frac{M}{M_{Sun}})^{-2.5}$$"
   ],
   "metadata": {}
  },
  {
   "cell_type": "code",
   "execution_count": 85,
   "source": [
    "m_ratio = 1.529732\n",
    "time_ratio = (m_ratio)**(-2.5)\n",
    "age = time_ratio * 4.603e9\n",
    "print(f\"Quite Approx Age is: {age}\")\n"
   ],
   "outputs": [
    {
     "output_type": "stream",
     "name": "stdout",
     "text": [
      "Quite Approx Age is: 1590386189.4367714\n"
     ]
    }
   ],
   "metadata": {}
  }
 ],
 "metadata": {
  "kernelspec": {
   "name": "python3",
   "display_name": "Python 3.8.10 64-bit ('astroenv': conda)"
  },
  "language_info": {
   "codemirror_mode": {
    "name": "ipython",
    "version": 3
   },
   "file_extension": ".py",
   "mimetype": "text/x-python",
   "name": "python",
   "nbconvert_exporter": "python",
   "pygments_lexer": "ipython3",
   "version": "3.8.10"
  },
  "interpreter": {
   "hash": "1cb27a633afb5b2e48f1d6e8ffb32872f56571aaae38aee94a225422e9bb330a"
  }
 },
 "nbformat": 4,
 "nbformat_minor": 5
}