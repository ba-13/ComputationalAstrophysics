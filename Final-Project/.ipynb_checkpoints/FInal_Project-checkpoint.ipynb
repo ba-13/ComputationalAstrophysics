{
 "cells": [
  {
   "cell_type": "code",
   "execution_count": 1,
   "id": "d23cba37",
   "metadata": {
    "ExecuteTime": {
     "end_time": "2021-07-18T21:43:42.792602Z",
     "start_time": "2021-07-18T21:43:42.578957Z"
    }
   },
   "outputs": [],
   "source": [
    "import csv, pandas as pd, numpy as np"
   ]
  },
  {
   "cell_type": "code",
   "execution_count": 2,
   "id": "66554132",
   "metadata": {
    "ExecuteTime": {
     "end_time": "2021-07-18T21:49:28.593625Z",
     "start_time": "2021-07-18T21:49:28.583874Z"
    }
   },
   "outputs": [],
   "source": [
    "df = pd.read_csv(\"Pleiades_Cluster.csv\")"
   ]
  },
  {
   "cell_type": "code",
   "execution_count": 3,
   "id": "20b71f67",
   "metadata": {
    "ExecuteTime": {
     "end_time": "2021-07-18T21:49:34.973472Z",
     "start_time": "2021-07-18T21:49:34.940810Z"
    }
   },
   "outputs": [
    {
     "data": {
      "text/html": [
       "<div>\n",
       "<style scoped>\n",
       "    .dataframe tbody tr th:only-of-type {\n",
       "        vertical-align: middle;\n",
       "    }\n",
       "\n",
       "    .dataframe tbody tr th {\n",
       "        vertical-align: top;\n",
       "    }\n",
       "\n",
       "    .dataframe thead th {\n",
       "        text-align: right;\n",
       "    }\n",
       "</style>\n",
       "<table border=\"1\" class=\"dataframe\">\n",
       "  <thead>\n",
       "    <tr style=\"text-align: right;\">\n",
       "      <th></th>\n",
       "      <th>gmag</th>\n",
       "      <th>ra</th>\n",
       "      <th>dec</th>\n",
       "      <th>plx</th>\n",
       "      <th>bp_rp</th>\n",
       "      <th>lum_val</th>\n",
       "      <th>teff_val</th>\n",
       "      <th>radius_val</th>\n",
       "    </tr>\n",
       "  </thead>\n",
       "  <tbody>\n",
       "    <tr>\n",
       "      <th>0</th>\n",
       "      <td>15.684173</td>\n",
       "      <td>58.452096</td>\n",
       "      <td>23.485778</td>\n",
       "      <td>3.486630</td>\n",
       "      <td>2.192428</td>\n",
       "      <td>0.062333</td>\n",
       "      <td>3797.0000</td>\n",
       "      <td>0.576938</td>\n",
       "    </tr>\n",
       "    <tr>\n",
       "      <th>1</th>\n",
       "      <td>7.498167</td>\n",
       "      <td>55.930096</td>\n",
       "      <td>25.080502</td>\n",
       "      <td>8.027063</td>\n",
       "      <td>0.188913</td>\n",
       "      <td>NaN</td>\n",
       "      <td>8337.3330</td>\n",
       "      <td>NaN</td>\n",
       "    </tr>\n",
       "    <tr>\n",
       "      <th>2</th>\n",
       "      <td>16.102013</td>\n",
       "      <td>57.170842</td>\n",
       "      <td>23.237979</td>\n",
       "      <td>8.509836</td>\n",
       "      <td>3.116683</td>\n",
       "      <td>NaN</td>\n",
       "      <td>3838.1667</td>\n",
       "      <td>NaN</td>\n",
       "    </tr>\n",
       "    <tr>\n",
       "      <th>3</th>\n",
       "      <td>12.923352</td>\n",
       "      <td>56.999005</td>\n",
       "      <td>24.731093</td>\n",
       "      <td>6.493298</td>\n",
       "      <td>1.591153</td>\n",
       "      <td>0.156267</td>\n",
       "      <td>4456.1650</td>\n",
       "      <td>0.663230</td>\n",
       "    </tr>\n",
       "    <tr>\n",
       "      <th>4</th>\n",
       "      <td>16.454210</td>\n",
       "      <td>55.865759</td>\n",
       "      <td>24.270604</td>\n",
       "      <td>2.675075</td>\n",
       "      <td>2.346289</td>\n",
       "      <td>0.050944</td>\n",
       "      <td>3830.0100</td>\n",
       "      <td>0.512623</td>\n",
       "    </tr>\n",
       "  </tbody>\n",
       "</table>\n",
       "</div>"
      ],
      "text/plain": [
       "        gmag         ra        dec       plx     bp_rp   lum_val   teff_val  \\\n",
       "0  15.684173  58.452096  23.485778  3.486630  2.192428  0.062333  3797.0000   \n",
       "1   7.498167  55.930096  25.080502  8.027063  0.188913       NaN  8337.3330   \n",
       "2  16.102013  57.170842  23.237979  8.509836  3.116683       NaN  3838.1667   \n",
       "3  12.923352  56.999005  24.731093  6.493298  1.591153  0.156267  4456.1650   \n",
       "4  16.454210  55.865759  24.270604  2.675075  2.346289  0.050944  3830.0100   \n",
       "\n",
       "   radius_val  \n",
       "0    0.576938  \n",
       "1         NaN  \n",
       "2         NaN  \n",
       "3    0.663230  \n",
       "4    0.512623  "
      ]
     },
     "execution_count": 3,
     "metadata": {},
     "output_type": "execute_result"
    }
   ],
   "source": [
    "df.head()"
   ]
  },
  {
   "cell_type": "code",
   "execution_count": 17,
   "id": "15923fdf",
   "metadata": {
    "ExecuteTime": {
     "end_time": "2021-07-18T22:07:53.265089Z",
     "start_time": "2021-07-18T22:07:53.257661Z"
    }
   },
   "outputs": [
    {
     "data": {
      "text/plain": [
       "Index(['gmag', 'ra', 'dec', 'plx', 'bp_rp', 'lum_val', 'teff_val',\n",
       "       'radius_val'],\n",
       "      dtype='object')"
      ]
     },
     "execution_count": 17,
     "metadata": {},
     "output_type": "execute_result"
    }
   ],
   "source": [
    "df.columns"
   ]
  },
  {
   "cell_type": "code",
   "execution_count": 25,
   "id": "2733ce43",
   "metadata": {
    "ExecuteTime": {
     "end_time": "2021-07-18T22:10:27.332681Z",
     "start_time": "2021-07-18T22:10:27.320719Z"
    }
   },
   "outputs": [
    {
     "data": {
      "text/plain": [
       "gmag            16.454210\n",
       "ra              55.865759\n",
       "dec             24.270604\n",
       "plx              2.675075\n",
       "bp_rp            2.346289\n",
       "lum_val          0.050944\n",
       "teff_val      3830.010000\n",
       "radius_val       0.512623\n",
       "Name: 4, dtype: float64"
      ]
     },
     "execution_count": 25,
     "metadata": {},
     "output_type": "execute_result"
    }
   ],
   "source": [
    "df.dropna().iloc[2]"
   ]
  },
  {
   "cell_type": "code",
   "execution_count": 13,
   "id": "caae9408",
   "metadata": {
    "ExecuteTime": {
     "end_time": "2021-07-18T22:04:16.933064Z",
     "start_time": "2021-07-18T22:04:16.926614Z"
    }
   },
   "outputs": [
    {
     "data": {
      "text/plain": [
       "987.0"
      ]
     },
     "execution_count": 13,
     "metadata": {},
     "output_type": "execute_result"
    }
   ],
   "source": [
    "df.size/8"
   ]
  },
  {
   "cell_type": "code",
   "execution_count": 23,
   "id": "ee7bf8bb",
   "metadata": {
    "ExecuteTime": {
     "end_time": "2021-07-18T22:10:12.967494Z",
     "start_time": "2021-07-18T22:10:12.947530Z"
    }
   },
   "outputs": [
    {
     "data": {
      "text/html": [
       "<div>\n",
       "<style scoped>\n",
       "    .dataframe tbody tr th:only-of-type {\n",
       "        vertical-align: middle;\n",
       "    }\n",
       "\n",
       "    .dataframe tbody tr th {\n",
       "        vertical-align: top;\n",
       "    }\n",
       "\n",
       "    .dataframe thead th {\n",
       "        text-align: right;\n",
       "    }\n",
       "</style>\n",
       "<table border=\"1\" class=\"dataframe\">\n",
       "  <thead>\n",
       "    <tr style=\"text-align: right;\">\n",
       "      <th></th>\n",
       "      <th>gmag</th>\n",
       "      <th>ra</th>\n",
       "      <th>dec</th>\n",
       "      <th>plx</th>\n",
       "      <th>bp_rp</th>\n",
       "      <th>lum_val</th>\n",
       "      <th>teff_val</th>\n",
       "      <th>radius_val</th>\n",
       "    </tr>\n",
       "  </thead>\n",
       "  <tbody>\n",
       "    <tr>\n",
       "      <th>0</th>\n",
       "      <td>15.684173</td>\n",
       "      <td>58.452096</td>\n",
       "      <td>23.485778</td>\n",
       "      <td>3.486630</td>\n",
       "      <td>2.192428</td>\n",
       "      <td>0.062333</td>\n",
       "      <td>3797.0000</td>\n",
       "      <td>0.576938</td>\n",
       "    </tr>\n",
       "    <tr>\n",
       "      <th>3</th>\n",
       "      <td>12.923352</td>\n",
       "      <td>56.999005</td>\n",
       "      <td>24.731093</td>\n",
       "      <td>6.493298</td>\n",
       "      <td>1.591153</td>\n",
       "      <td>0.156267</td>\n",
       "      <td>4456.1650</td>\n",
       "      <td>0.663230</td>\n",
       "    </tr>\n",
       "    <tr>\n",
       "      <th>4</th>\n",
       "      <td>16.454210</td>\n",
       "      <td>55.865759</td>\n",
       "      <td>24.270604</td>\n",
       "      <td>2.675075</td>\n",
       "      <td>2.346289</td>\n",
       "      <td>0.050944</td>\n",
       "      <td>3830.0100</td>\n",
       "      <td>0.512623</td>\n",
       "    </tr>\n",
       "    <tr>\n",
       "      <th>7</th>\n",
       "      <td>12.179868</td>\n",
       "      <td>55.676693</td>\n",
       "      <td>23.502644</td>\n",
       "      <td>8.294176</td>\n",
       "      <td>1.369455</td>\n",
       "      <td>0.165852</td>\n",
       "      <td>4861.0350</td>\n",
       "      <td>0.574189</td>\n",
       "    </tr>\n",
       "    <tr>\n",
       "      <th>10</th>\n",
       "      <td>14.584626</td>\n",
       "      <td>55.786541</td>\n",
       "      <td>23.251838</td>\n",
       "      <td>4.447532</td>\n",
       "      <td>1.873214</td>\n",
       "      <td>0.085902</td>\n",
       "      <td>4112.1074</td>\n",
       "      <td>0.577466</td>\n",
       "    </tr>\n",
       "    <tr>\n",
       "      <th>...</th>\n",
       "      <td>...</td>\n",
       "      <td>...</td>\n",
       "      <td>...</td>\n",
       "      <td>...</td>\n",
       "      <td>...</td>\n",
       "      <td>...</td>\n",
       "      <td>...</td>\n",
       "      <td>...</td>\n",
       "    </tr>\n",
       "    <tr>\n",
       "      <th>979</th>\n",
       "      <td>9.779877</td>\n",
       "      <td>56.710653</td>\n",
       "      <td>23.239006</td>\n",
       "      <td>6.497724</td>\n",
       "      <td>0.746530</td>\n",
       "      <td>2.140879</td>\n",
       "      <td>5945.6665</td>\n",
       "      <td>1.378947</td>\n",
       "    </tr>\n",
       "    <tr>\n",
       "      <th>982</th>\n",
       "      <td>11.852763</td>\n",
       "      <td>56.920869</td>\n",
       "      <td>22.929795</td>\n",
       "      <td>5.779793</td>\n",
       "      <td>1.404244</td>\n",
       "      <td>0.513834</td>\n",
       "      <td>4526.7550</td>\n",
       "      <td>1.165440</td>\n",
       "    </tr>\n",
       "    <tr>\n",
       "      <th>983</th>\n",
       "      <td>8.186488</td>\n",
       "      <td>55.930264</td>\n",
       "      <td>24.374396</td>\n",
       "      <td>7.226433</td>\n",
       "      <td>0.352915</td>\n",
       "      <td>7.839014</td>\n",
       "      <td>7963.1953</td>\n",
       "      <td>1.470986</td>\n",
       "    </tr>\n",
       "    <tr>\n",
       "      <th>984</th>\n",
       "      <td>15.502478</td>\n",
       "      <td>56.525937</td>\n",
       "      <td>25.112616</td>\n",
       "      <td>2.085063</td>\n",
       "      <td>1.515169</td>\n",
       "      <td>0.141687</td>\n",
       "      <td>4443.0000</td>\n",
       "      <td>0.635280</td>\n",
       "    </tr>\n",
       "    <tr>\n",
       "      <th>986</th>\n",
       "      <td>11.906063</td>\n",
       "      <td>57.765432</td>\n",
       "      <td>22.840395</td>\n",
       "      <td>4.196960</td>\n",
       "      <td>1.102659</td>\n",
       "      <td>0.816104</td>\n",
       "      <td>4947.1800</td>\n",
       "      <td>1.229731</td>\n",
       "    </tr>\n",
       "  </tbody>\n",
       "</table>\n",
       "<p>306 rows × 8 columns</p>\n",
       "</div>"
      ],
      "text/plain": [
       "          gmag         ra        dec       plx     bp_rp   lum_val   teff_val  \\\n",
       "0    15.684173  58.452096  23.485778  3.486630  2.192428  0.062333  3797.0000   \n",
       "3    12.923352  56.999005  24.731093  6.493298  1.591153  0.156267  4456.1650   \n",
       "4    16.454210  55.865759  24.270604  2.675075  2.346289  0.050944  3830.0100   \n",
       "7    12.179868  55.676693  23.502644  8.294176  1.369455  0.165852  4861.0350   \n",
       "10   14.584626  55.786541  23.251838  4.447532  1.873214  0.085902  4112.1074   \n",
       "..         ...        ...        ...       ...       ...       ...        ...   \n",
       "979   9.779877  56.710653  23.239006  6.497724  0.746530  2.140879  5945.6665   \n",
       "982  11.852763  56.920869  22.929795  5.779793  1.404244  0.513834  4526.7550   \n",
       "983   8.186488  55.930264  24.374396  7.226433  0.352915  7.839014  7963.1953   \n",
       "984  15.502478  56.525937  25.112616  2.085063  1.515169  0.141687  4443.0000   \n",
       "986  11.906063  57.765432  22.840395  4.196960  1.102659  0.816104  4947.1800   \n",
       "\n",
       "     radius_val  \n",
       "0      0.576938  \n",
       "3      0.663230  \n",
       "4      0.512623  \n",
       "7      0.574189  \n",
       "10     0.577466  \n",
       "..          ...  \n",
       "979    1.378947  \n",
       "982    1.165440  \n",
       "983    1.470986  \n",
       "984    0.635280  \n",
       "986    1.229731  \n",
       "\n",
       "[306 rows x 8 columns]"
      ]
     },
     "execution_count": 23,
     "metadata": {},
     "output_type": "execute_result"
    }
   ],
   "source": [
    "df.dropna()"
   ]
  },
  {
   "cell_type": "code",
   "execution_count": null,
   "id": "ff4972e3",
   "metadata": {
    "ExecuteTime": {
     "end_time": "2021-07-18T22:13:25.116202Z",
     "start_time": "2021-07-18T22:13:25.108792Z"
    }
   },
   "outputs": [],
   "source": []
  },
  {
   "cell_type": "code",
   "execution_count": null,
   "id": "f7a60977",
   "metadata": {},
   "outputs": [],
   "source": []
  }
 ],
 "metadata": {
  "kernelspec": {
   "display_name": "Python 3.8.10 64-bit ('astroenv': conda)",
   "language": "python",
   "name": "python3810jvsc74a57bd01cb27a633afb5b2e48f1d6e8ffb32872f56571aaae38aee94a225422e9bb330a"
  },
  "language_info": {
   "codemirror_mode": {
    "name": "ipython",
    "version": 3
   },
   "file_extension": ".py",
   "mimetype": "text/x-python",
   "name": "python",
   "nbconvert_exporter": "python",
   "pygments_lexer": "ipython3",
   "version": "3.8.10"
  }
 },
 "nbformat": 4,
 "nbformat_minor": 5
}
