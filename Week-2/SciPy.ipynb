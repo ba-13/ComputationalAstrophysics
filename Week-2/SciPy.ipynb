{
 "cells": [
  {
   "cell_type": "markdown",
   "metadata": {},
   "source": [
    "# SciPy\n",
    "\n",
    "SciPy stands for scientific python. It is a scientific computation library that provides more utility functions for optimization, statistics and signal processing. We will primarily look at three of utilities, namely, equation solving, curve fitting and solving ordinary differential equations. <br><br>\n",
    "\n",
    "## Equation Solver\n",
    "We can use the `root` function of the `scipy.optimize` module to get the roots of an equation."
   ]
  },
  {
   "cell_type": "code",
   "execution_count": 1,
   "metadata": {
    "ExecuteTime": {
     "end_time": "2021-06-15T19:32:29.915609Z",
     "start_time": "2021-06-15T19:32:29.774805Z"
    }
   },
   "outputs": [],
   "source": [
    "from scipy.optimize import root\n",
    "import numpy as np"
   ]
  },
  {
   "cell_type": "markdown",
   "metadata": {},
   "source": [
    "Suppose we need to solve an equation $f(x)=0$. We define the equation in terms of a function which takes the variable to be determined, ie $x$, as an input and returns the value of the function, ie $y=f(x)$ as an output. Consider a trivial example: we need to determine the roots of $x-2=0$."
   ]
  },
  {
   "cell_type": "code",
   "execution_count": 9,
   "metadata": {
    "ExecuteTime": {
     "end_time": "2021-06-15T19:33:49.859002Z",
     "start_time": "2021-06-15T19:33:49.852626Z"
    }
   },
   "outputs": [
    {
     "name": "stdout",
     "output_type": "stream",
     "text": [
      "[ 2. -2.]\n"
     ]
    }
   ],
   "source": [
    "#First we define the function\n",
    "def f(x):\n",
    "    return (x**2)-4\n",
    "\n",
    "val=root(f,(1,-1)) #We also need to provide an initial guess for the root, here 0\n",
    "print(val.x)"
   ]
  },
  {
   "cell_type": "code",
   "execution_count": 23,
   "metadata": {},
   "outputs": [],
   "source": [
    "def f2(x):\n",
    "    g = np.e**(x)\n",
    "    return g-np.pi\n",
    "    "
   ]
  },
  {
   "cell_type": "code",
   "execution_count": 27,
   "metadata": {},
   "outputs": [
    {
     "name": "stdout",
     "output_type": "stream",
     "text": [
      "    fjac: array([[-1.]])\n",
      "     fun: array([0.])\n",
      " message: 'The solution converged.'\n",
      "    nfev: 12\n",
      "     qtf: array([1.21591626e-12])\n",
      "       r: array([-3.1415927])\n",
      "  status: 1\n",
      " success: True\n",
      "       x: array([1.14472989])\n"
     ]
    }
   ],
   "source": [
    "val2 = root(f2, 0)\n",
    "print(val2)"
   ]
  },
  {
   "cell_type": "markdown",
   "metadata": {},
   "source": [
    "Consider a non trivial case, we need to solve the equation $x-3sin(x)=0$ which can have multiple roots."
   ]
  },
  {
   "cell_type": "code",
   "execution_count": 24,
   "metadata": {
    "ExecuteTime": {
     "end_time": "2021-06-06T08:22:34.888743Z",
     "start_time": "2021-06-06T08:22:34.672781Z"
    }
   },
   "outputs": [],
   "source": [
    "import matplotlib.pyplot as plt"
   ]
  },
  {
   "cell_type": "code",
   "execution_count": 25,
   "metadata": {},
   "outputs": [
    {
     "data": {
      "image/png": "[encoded data removed]",
      "text/plain": [
       "<Figure size 432x288 with 1 Axes>"
      ]
     },
     "metadata": {
      "needs_background": "light"
     },
     "output_type": "display_data"
    }
   ],
   "source": [
    "f2_fig = plt.figure();\n",
    "x = np.arange(-10,10,0.0005);\n",
    "plt.plot(x, f2(x))\n",
    "plt.grid();\n",
    "plt.show();\n"
   ]
  },
  {
   "cell_type": "code",
   "execution_count": 12,
   "metadata": {
    "ExecuteTime": {
     "end_time": "2021-06-06T08:33:14.909035Z",
     "start_time": "2021-06-06T08:33:14.775676Z"
    }
   },
   "outputs": [
    {
     "data": {
      "text/plain": [
       "[]"
      ]
     },
     "execution_count": 12,
     "metadata": {},
     "output_type": "execute_result"
    },
    {
     "data": {
      "image/png": "[encoded data removed]",
      "text/plain": [
       "<Figure size 432x288 with 1 Axes>"
      ]
     },
     "metadata": {
      "needs_background": "light"
     },
     "output_type": "display_data"
    }
   ],
   "source": [
    "fig = plt.figure()\n",
    "sin = plt.plot(np.arange(-10,10,0.05), 3*np.sin(np.arange(-10,10,0.05)))\n",
    "x = plt.plot(np.arange(-10,10,0.05), np.arange(-10,10,0.05))\n",
    "plt.grid()\n",
    "plt.plot()"
   ]
  },
  {
   "cell_type": "code",
   "execution_count": 14,
   "metadata": {
    "ExecuteTime": {
     "end_time": "2021-06-06T08:33:56.286304Z",
     "start_time": "2021-06-06T08:33:56.280200Z"
    }
   },
   "outputs": [
    {
     "name": "stdout",
     "output_type": "stream",
     "text": [
      "[-2.27886266  0.          2.27886266]\n"
     ]
    }
   ],
   "source": [
    "def f(x):\n",
    "    return x-3*np.sin(x)\n",
    "\n",
    "#The equation will have 3 roots so 3 initial guesses need to be provided\n",
    "val=root(f,[-2,0,3])\n",
    "print(val.x)"
   ]
  },
  {
   "cell_type": "markdown",
   "metadata": {},
   "source": [
    "You may also solve a set of linear equations, consider the example:\n",
    "$$4x-5y+8=0$$\n",
    "$$3x+2y-17=0$$"
   ]
  },
  {
   "cell_type": "code",
   "execution_count": 17,
   "metadata": {
    "ExecuteTime": {
     "end_time": "2021-06-06T08:34:43.511547Z",
     "start_time": "2021-06-06T08:34:43.505433Z"
    }
   },
   "outputs": [
    {
     "name": "stdout",
     "output_type": "stream",
     "text": [
      "[3. 4.]\n"
     ]
    }
   ],
   "source": [
    "def f(x):\n",
    "    return [4*x[0]-5*x[1]+8, 3*x[0]+2*x[1]-17]\n",
    "val=root(f,(0,0)) #tuple works too.\n",
    "print(val.x) #returns the array x, ie [x,y] of the equations"
   ]
  },
  {
   "cell_type": "markdown",
   "metadata": {},
   "source": [
    "As you would have seen above, the function `root` requires a rough idea about the location of the roots and their number so as to make the initial guesses. Thus to work with a complicated equation it would be better to plot the equation and get a rough idea from there.<br><br>\n",
    "## Curve Fitting\n",
    "Many a times it so happens that a theorist devises a new theory (read equation) of some physical phenomenon. Now, the theorist has to wait for an experimentalist to perform some sorcery and get some meaningful data. Let's say the data obtained were some values of the equation (i.e. formula) corresponding to the values of the independent variable. Using this dataset one can try to 'fit' the theoretical model (read equation) and obtain the values of the paramters governing the equation. This procedure is known as curve fitting. We utilize the `curve_fit` function of the `scipy.optimize` module to do so."
   ]
  },
  {
   "cell_type": "code",
   "execution_count": 18,
   "metadata": {
    "ExecuteTime": {
     "end_time": "2021-06-06T08:37:58.589330Z",
     "start_time": "2021-06-06T08:37:58.584783Z"
    }
   },
   "outputs": [],
   "source": [
    "from scipy.optimize import curve_fit as cf\n",
    "import matplotlib.pyplot as plt"
   ]
  },
  {
   "cell_type": "markdown",
   "metadata": {},
   "source": [
    "First the theorist defines the model. For ease, let's consider a linear model."
   ]
  },
  {
   "cell_type": "code",
   "execution_count": 19,
   "metadata": {
    "ExecuteTime": {
     "end_time": "2021-06-06T08:38:01.220860Z",
     "start_time": "2021-06-06T08:38:01.216070Z"
    }
   },
   "outputs": [],
   "source": [
    "#x is the independent variable, m & c are the parameters to be determined\n",
    "def f(x,m,c):\n",
    "    return m*x+c        "
   ]
  },
  {
   "cell_type": "markdown",
   "metadata": {},
   "source": [
    "Since, I (Saad) am not an experimentalist, I do not have any dataset. So I'll just go on and create my own synthetic dataset which would imitate some stupid experiment which gives values within some error range."
   ]
  },
  {
   "cell_type": "code",
   "execution_count": 27,
   "metadata": {
    "ExecuteTime": {
     "end_time": "2021-06-06T08:42:10.834494Z",
     "start_time": "2021-06-06T08:42:10.711540Z"
    }
   },
   "outputs": [
    {
     "data": {
      "text/plain": [
       "<matplotlib.collections.PathCollection at 0x7fb7de03d190>"
      ]
     },
     "execution_count": 27,
     "metadata": {},
     "output_type": "execute_result"
    },
    {
     "data": {
      "image/png": "[encoded data removed]",
      "text/plain": [
       "<Figure size 432x288 with 1 Axes>"
      ]
     },
     "metadata": {
      "needs_background": "light"
     },
     "output_type": "display_data"
    }
   ],
   "source": [
    "xdata=np.linspace(0,5,500)\n",
    "ydata=f(xdata,2,1)+0.25*np.random.randn(len(xdata)) #Note down m=2 and c=1, we will tally our results at the end. Also, the random term adds the error in the values\n",
    "\n",
    "#Let's have a look at our data\n",
    "plt.scatter(xdata,ydata,s=1, c=\"#aa0000\")"
   ]
  },
  {
   "cell_type": "markdown",
   "metadata": {},
   "source": [
    "So the above really looks to come from an experiment. Now let's try to determine the parameters $m$ and $c$."
   ]
  },
  {
   "cell_type": "code",
   "execution_count": 44,
   "metadata": {
    "ExecuteTime": {
     "end_time": "2021-06-06T08:50:28.921279Z",
     "start_time": "2021-06-06T08:50:28.914755Z"
    }
   },
   "outputs": [
    {
     "name": "stdout",
     "output_type": "stream",
     "text": [
      "[2.00825442 0.9784001 ] [[ 6.44206752e-05 -1.61051686e-04]\n",
      " [-1.61051686e-04  5.37376857e-04]]\n"
     ]
    }
   ],
   "source": [
    "p_opt, p_cov = cf(f,xdata,ydata)\n",
    "#p_opt is the array that contains optimized values of the parameters, whereas p_cov is the covariance matrix.\n",
    "#Since the function f(x,m,c) had parameters in the order (m,c), p_opt is also in the form (m,c)\n",
    "print(p_opt, p_cov)"
   ]
  },
  {
   "cell_type": "code",
   "execution_count": 37,
   "metadata": {
    "ExecuteTime": {
     "end_time": "2021-06-06T08:47:51.254079Z",
     "start_time": "2021-06-06T08:47:51.249032Z"
    }
   },
   "outputs": [],
   "source": [
    "from functools import cache"
   ]
  },
  {
   "cell_type": "code",
   "execution_count": 38,
   "metadata": {
    "ExecuteTime": {
     "end_time": "2021-06-06T08:47:52.148347Z",
     "start_time": "2021-06-06T08:47:52.143922Z"
    }
   },
   "outputs": [],
   "source": [
    "@cache\n",
    "def fibbo(n):\n",
    "    if n==0:\n",
    "        return 0\n",
    "    elif n==1:\n",
    "        return 1\n",
    "    else:\n",
    "        return fibbo(n-1) + fibbo(n-2)"
   ]
  },
  {
   "cell_type": "code",
   "execution_count": 39,
   "metadata": {
    "ExecuteTime": {
     "end_time": "2021-06-06T08:47:54.040837Z",
     "start_time": "2021-06-06T08:47:54.018024Z"
    },
    "scrolled": true
   },
   "outputs": [
    {
     "name": "stdout",
     "output_type": "stream",
     "text": [
      "The 0th is 0\n",
      "The 1th is 1\n",
      "The 2th is 1\n",
      "The 3th is 2\n",
      "The 4th is 3\n",
      "The 5th is 5\n",
      "The 6th is 8\n",
      "The 7th is 13\n",
      "The 8th is 21\n",
      "The 9th is 34\n",
      "The 10th is 55\n",
      "The 11th is 89\n",
      "The 12th is 144\n",
      "The 13th is 233\n",
      "The 14th is 377\n",
      "The 15th is 610\n",
      "The 16th is 987\n",
      "The 17th is 1597\n",
      "The 18th is 2584\n",
      "The 19th is 4181\n",
      "The 20th is 6765\n",
      "The 21th is 10946\n",
      "The 22th is 17711\n",
      "The 23th is 28657\n",
      "The 24th is 46368\n",
      "The 25th is 75025\n",
      "The 26th is 121393\n",
      "The 27th is 196418\n",
      "The 28th is 317811\n",
      "The 29th is 514229\n",
      "The 30th is 832040\n",
      "The 31th is 1346269\n",
      "The 32th is 2178309\n",
      "The 33th is 3524578\n",
      "The 34th is 5702887\n",
      "The 35th is 9227465\n",
      "The 36th is 14930352\n",
      "The 37th is 24157817\n",
      "The 38th is 39088169\n",
      "The 39th is 63245986\n",
      "The 40th is 102334155\n",
      "The 41th is 165580141\n",
      "The 42th is 267914296\n",
      "The 43th is 433494437\n",
      "The 44th is 701408733\n",
      "The 45th is 1134903170\n",
      "The 46th is 1836311903\n",
      "The 47th is 2971215073\n",
      "The 48th is 4807526976\n",
      "The 49th is 7778742049\n",
      "The 50th is 12586269025\n",
      "The 51th is 20365011074\n",
      "The 52th is 32951280099\n",
      "The 53th is 53316291173\n",
      "The 54th is 86267571272\n",
      "The 55th is 139583862445\n",
      "The 56th is 225851433717\n",
      "The 57th is 365435296162\n",
      "The 58th is 591286729879\n",
      "The 59th is 956722026041\n",
      "The 60th is 1548008755920\n",
      "The 61th is 2504730781961\n",
      "The 62th is 4052739537881\n",
      "The 63th is 6557470319842\n",
      "The 64th is 10610209857723\n",
      "The 65th is 17167680177565\n",
      "The 66th is 27777890035288\n",
      "The 67th is 44945570212853\n",
      "The 68th is 72723460248141\n",
      "The 69th is 117669030460994\n",
      "The 70th is 190392490709135\n",
      "The 71th is 308061521170129\n",
      "The 72th is 498454011879264\n",
      "The 73th is 806515533049393\n",
      "The 74th is 1304969544928657\n",
      "The 75th is 2111485077978050\n",
      "The 76th is 3416454622906707\n",
      "The 77th is 5527939700884757\n",
      "The 78th is 8944394323791464\n",
      "The 79th is 14472334024676221\n",
      "The 80th is 23416728348467685\n",
      "The 81th is 37889062373143906\n",
      "The 82th is 61305790721611591\n",
      "The 83th is 99194853094755497\n",
      "The 84th is 160500643816367088\n",
      "The 85th is 259695496911122585\n",
      "The 86th is 420196140727489673\n",
      "The 87th is 679891637638612258\n",
      "The 88th is 1100087778366101931\n",
      "The 89th is 1779979416004714189\n",
      "The 90th is 2880067194370816120\n",
      "The 91th is 4660046610375530309\n",
      "The 92th is 7540113804746346429\n",
      "The 93th is 12200160415121876738\n",
      "The 94th is 19740274219868223167\n",
      "The 95th is 31940434634990099905\n",
      "The 96th is 51680708854858323072\n",
      "The 97th is 83621143489848422977\n",
      "The 98th is 135301852344706746049\n",
      "The 99th is 218922995834555169026\n",
      "The 100th is 354224848179261915075\n",
      "The 101th is 573147844013817084101\n",
      "The 102th is 927372692193078999176\n",
      "The 103th is 1500520536206896083277\n",
      "The 104th is 2427893228399975082453\n",
      "The 105th is 3928413764606871165730\n",
      "The 106th is 6356306993006846248183\n",
      "The 107th is 10284720757613717413913\n",
      "The 108th is 16641027750620563662096\n",
      "The 109th is 26925748508234281076009\n",
      "The 110th is 43566776258854844738105\n",
      "The 111th is 70492524767089125814114\n",
      "The 112th is 114059301025943970552219\n",
      "The 113th is 184551825793033096366333\n",
      "The 114th is 298611126818977066918552\n",
      "The 115th is 483162952612010163284885\n",
      "The 116th is 781774079430987230203437\n",
      "The 117th is 1264937032042997393488322\n",
      "The 118th is 2046711111473984623691759\n",
      "The 119th is 3311648143516982017180081\n",
      "The 120th is 5358359254990966640871840\n",
      "The 121th is 8670007398507948658051921\n",
      "The 122th is 14028366653498915298923761\n",
      "The 123th is 22698374052006863956975682\n",
      "The 124th is 36726740705505779255899443\n",
      "The 125th is 59425114757512643212875125\n",
      "The 126th is 96151855463018422468774568\n",
      "The 127th is 155576970220531065681649693\n",
      "The 128th is 251728825683549488150424261\n",
      "The 129th is 407305795904080553832073954\n",
      "The 130th is 659034621587630041982498215\n",
      "The 131th is 1066340417491710595814572169\n",
      "The 132th is 1725375039079340637797070384\n",
      "The 133th is 2791715456571051233611642553\n",
      "The 134th is 4517090495650391871408712937\n",
      "The 135th is 7308805952221443105020355490\n",
      "The 136th is 11825896447871834976429068427\n",
      "The 137th is 19134702400093278081449423917\n",
      "The 138th is 30960598847965113057878492344\n",
      "The 139th is 50095301248058391139327916261\n",
      "The 140th is 81055900096023504197206408605\n",
      "The 141th is 131151201344081895336534324866\n",
      "The 142th is 212207101440105399533740733471\n",
      "The 143th is 343358302784187294870275058337\n",
      "The 144th is 555565404224292694404015791808\n",
      "The 145th is 898923707008479989274290850145\n",
      "The 146th is 1454489111232772683678306641953\n",
      "The 147th is 2353412818241252672952597492098\n",
      "The 148th is 3807901929474025356630904134051\n",
      "The 149th is 6161314747715278029583501626149\n",
      "The 150th is 9969216677189303386214405760200\n",
      "The 151th is 16130531424904581415797907386349\n",
      "The 152th is 26099748102093884802012313146549\n",
      "The 153th is 42230279526998466217810220532898\n",
      "The 154th is 68330027629092351019822533679447\n",
      "The 155th is 110560307156090817237632754212345\n",
      "The 156th is 178890334785183168257455287891792\n",
      "The 157th is 289450641941273985495088042104137\n",
      "The 158th is 468340976726457153752543329995929\n",
      "The 159th is 757791618667731139247631372100066\n",
      "The 160th is 1226132595394188293000174702095995\n",
      "The 161th is 1983924214061919432247806074196061\n",
      "The 162th is 3210056809456107725247980776292056\n",
      "The 163th is 5193981023518027157495786850488117\n",
      "The 164th is 8404037832974134882743767626780173\n",
      "The 165th is 13598018856492162040239554477268290\n",
      "The 166th is 22002056689466296922983322104048463\n",
      "The 167th is 35600075545958458963222876581316753\n",
      "The 168th is 57602132235424755886206198685365216\n",
      "The 169th is 93202207781383214849429075266681969\n",
      "The 170th is 150804340016807970735635273952047185\n",
      "The 171th is 244006547798191185585064349218729154\n",
      "The 172th is 394810887814999156320699623170776339\n",
      "The 173th is 638817435613190341905763972389505493\n",
      "The 174th is 1033628323428189498226463595560281832\n",
      "The 175th is 1672445759041379840132227567949787325\n",
      "The 176th is 2706074082469569338358691163510069157\n",
      "The 177th is 4378519841510949178490918731459856482\n",
      "The 178th is 7084593923980518516849609894969925639\n",
      "The 179th is 11463113765491467695340528626429782121\n",
      "The 180th is 18547707689471986212190138521399707760\n",
      "The 181th is 30010821454963453907530667147829489881\n",
      "The 182th is 48558529144435440119720805669229197641\n",
      "The 183th is 78569350599398894027251472817058687522\n",
      "The 184th is 127127879743834334146972278486287885163\n",
      "The 185th is 205697230343233228174223751303346572685\n",
      "The 186th is 332825110087067562321196029789634457848\n",
      "The 187th is 538522340430300790495419781092981030533\n",
      "The 188th is 871347450517368352816615810882615488381\n",
      "The 189th is 1409869790947669143312035591975596518914\n",
      "The 190th is 2281217241465037496128651402858212007295\n",
      "The 191th is 3691087032412706639440686994833808526209\n",
      "The 192th is 5972304273877744135569338397692020533504\n",
      "The 193th is 9663391306290450775010025392525829059713\n",
      "The 194th is 15635695580168194910579363790217849593217\n",
      "The 195th is 25299086886458645685589389182743678652930\n",
      "The 196th is 40934782466626840596168752972961528246147\n",
      "The 197th is 66233869353085486281758142155705206899077\n",
      "The 198th is 107168651819712326877926895128666735145224\n",
      "The 199th is 173402521172797813159685037284371942044301\n"
     ]
    }
   ],
   "source": [
    "for i in range(200):\n",
    "    print(f'The {i}th is {fibbo(i)}')"
   ]
  },
  {
   "cell_type": "markdown",
   "metadata": {},
   "source": [
    "Viola! We obtain the best-fit parameters to be $(m,c)=(2.00371583,0.99559783)$ which is quite close to the value $(2,1)$ which we had earlier used to produce the dataset and then introduced some error. Let's plot the result."
   ]
  },
  {
   "cell_type": "code",
   "execution_count": 9,
   "metadata": {},
   "outputs": [
    {
     "data": {
      "image/png": "[encoded data removed]",
      "text/plain": [
       "<Figure size 432x288 with 1 Axes>"
      ]
     },
     "metadata": {
      "needs_background": "light"
     },
     "output_type": "display_data"
    }
   ],
   "source": [
    "plt.scatter(xdata,ydata,s=1, label='Dataset')\n",
    "plt.plot(xdata,f(xdata,*p_opt),'r',label='Best Fit')\n",
    "# * before a separable object unpacks it. So you don't need to write lin_func(xdata,p_opt[0],p_opt[1])\n",
    "plt.xlabel(\"X Axis\")\n",
    "plt.ylabel(\"Y Axis\")\n",
    "plt.title('Best Fit Curve')\n",
    "plt.legend()\n",
    "plt.show()"
   ]
  },
  {
   "cell_type": "markdown",
   "metadata": {},
   "source": [
    "Let's try a non trivial example. Suppose you have the model $ax^3+bx^2+cx+d=0$ and you need to determine $(a,b,c,d)$."
   ]
  },
  {
   "cell_type": "code",
   "execution_count": 10,
   "metadata": {},
   "outputs": [
    {
     "name": "stdout",
     "output_type": "stream",
     "text": [
      "[ 1.00137382  2.00111546 -3.00392464 -1.99850826]\n"
     ]
    },
    {
     "data": {
      "image/png": "[encoded data removed]",
      "text/plain": [
       "<Figure size 432x288 with 1 Axes>"
      ]
     },
     "metadata": {
      "needs_background": "light"
     },
     "output_type": "display_data"
    }
   ],
   "source": [
    "#Define the model\n",
    "def f(x,a,b,c,d):\n",
    "    return a*x**3+b*x**2+c*x+d\n",
    "\n",
    "#Let's generate some dataset\n",
    "xdata=np.linspace(-3,2,500)\n",
    "ydata=f(xdata,1,2,-3,-2)+0.25*np.random.randn(len(xdata)) #We've given (a,b,c,d)=(1,2,-3,-2)\n",
    "\n",
    "#Obtain the best fit parameters\n",
    "p_opt, p_cov = cf(f,xdata,ydata)\n",
    "print(p_opt)\n",
    "\n",
    "#Plot the best fit curve\n",
    "plt.scatter(xdata,ydata,s=1.5,label='Dataset')\n",
    "plt.plot(xdata,f(xdata,*p_opt),'r',label='Best Fit')\n",
    "plt.xlabel(\"X Axis\")\n",
    "plt.ylabel(\"Y Axis\")\n",
    "plt.title('Best Fit Curve')\n",
    "plt.legend()\n",
    "plt.show()"
   ]
  },
  {
   "cell_type": "markdown",
   "metadata": {},
   "source": [
    "## Ordinary Differential Equation Solver\n",
    "It is common in physics to see a theoretical model being described through a set of differential equations. A differential equation contains in a way the general information about the system. On solving the equations along with the initial or boundary conditions a thorough picture of the system can be obtained. For example, Newton's laws of motion are a set of differential equations governing the motion of the system through time, or in other words, the time derivatives alongwith initial conditions determine the time evolution of the system. It is therefore necessary to be able to solve the differential equations and here, we do so computationally. We use the `solve_ivp` function of the `scipy.integrate` module to perform the task."
   ]
  },
  {
   "cell_type": "code",
   "execution_count": 46,
   "metadata": {
    "ExecuteTime": {
     "end_time": "2021-06-06T08:55:46.864941Z",
     "start_time": "2021-06-06T08:55:46.853433Z"
    }
   },
   "outputs": [],
   "source": [
    "from scipy.integrate import solve_ivp"
   ]
  },
  {
   "cell_type": "markdown",
   "metadata": {},
   "source": [
    "We shall consider two cases: 1st order ODEs and higher order ODEs which can be broken into a set of 1st order ODEs\n",
    "\n",
    "### First Order ODEs\n",
    "Consider an example of a 1st order ODE: $$\\frac{dx}{dt}=a-bt$$ where $a, b$ are some parameters. As you can see this is the equation of motion of an object thrown in gravity. The resulting solution must be a parabola. Let's see if we obtain one. Suppose the parameters values are $a=8$ and $b=2$."
   ]
  },
  {
   "cell_type": "code",
   "execution_count": 47,
   "metadata": {
    "ExecuteTime": {
     "end_time": "2021-06-06T08:55:47.977040Z",
     "start_time": "2021-06-06T08:55:47.971960Z"
    }
   },
   "outputs": [],
   "source": [
    "#Define the function first which returns the derivative\n",
    "def deri(t,x,a,b):\n",
    "    return a-b*t #Returns the derivative because a-bt=dx/dt"
   ]
  },
  {
   "cell_type": "markdown",
   "metadata": {},
   "source": [
    "As mentioned earlier an ODE represents a family of solutions and to pick up a specific solution we need some conditions. A Nth order ODE would require N conditions. Here we have N=1 so we provide the initial condition (also known as Initial Value Problem), ie let $x=5$ at $t=0$."
   ]
  },
  {
   "cell_type": "code",
   "execution_count": 48,
   "metadata": {
    "ExecuteTime": {
     "end_time": "2021-06-06T08:55:49.527299Z",
     "start_time": "2021-06-06T08:55:49.523537Z"
    }
   },
   "outputs": [],
   "source": [
    "#Initial condition denoted as x0\n",
    "x0=np.array([5])"
   ]
  },
  {
   "cell_type": "markdown",
   "metadata": {},
   "source": [
    "Since we are solving the equation numerically, we need instants of the independent variable (here $t$) at which we want to determine the dependent variable (here $x$)."
   ]
  },
  {
   "cell_type": "code",
   "execution_count": 49,
   "metadata": {
    "ExecuteTime": {
     "end_time": "2021-06-06T08:55:50.772941Z",
     "start_time": "2021-06-06T08:55:50.768610Z"
    }
   },
   "outputs": [],
   "source": [
    "#Define a certain range of t over which we want to calculate x\n",
    "t0=0\n",
    "tf=10\n",
    "t_span=(t0,tf)\n",
    "t=np.linspace(t0,tf,1000) #Obtained a set of points at which we calculate x"
   ]
  },
  {
   "cell_type": "markdown",
   "metadata": {},
   "source": [
    "Let's set the values of the parameters"
   ]
  },
  {
   "cell_type": "code",
   "execution_count": 50,
   "metadata": {
    "ExecuteTime": {
     "end_time": "2021-06-06T08:55:52.756273Z",
     "start_time": "2021-06-06T08:55:52.751705Z"
    }
   },
   "outputs": [],
   "source": [
    "a=8\n",
    "b=2"
   ]
  },
  {
   "cell_type": "markdown",
   "metadata": {},
   "source": [
    "Now comes the solving part"
   ]
  },
  {
   "cell_type": "code",
   "execution_count": 51,
   "metadata": {
    "ExecuteTime": {
     "end_time": "2021-06-06T08:55:54.166209Z",
     "start_time": "2021-06-06T08:55:54.138106Z"
    }
   },
   "outputs": [
    {
     "name": "stdout",
     "output_type": "stream",
     "text": [
      "  message: 'The solver successfully reached the end of the integration interval.'\n",
      "     nfev: 20\n",
      "     njev: 0\n",
      "      nlu: 0\n",
      "      sol: None\n",
      "   status: 0\n",
      "  success: True\n",
      "        t: array([ 0.        ,  0.01001001,  0.02002002,  0.03003003,  0.04004004,\n",
      "        0.05005005,  0.06006006,  0.07007007,  0.08008008,  0.09009009,\n",
      "        0.1001001 ,  0.11011011,  0.12012012,  0.13013013,  0.14014014,\n",
      "        0.15015015,  0.16016016,  0.17017017,  0.18018018,  0.19019019,\n",
      "        0.2002002 ,  0.21021021,  0.22022022,  0.23023023,  0.24024024,\n",
      "        0.25025025,  0.26026026,  0.27027027,  0.28028028,  0.29029029,\n",
      "        0.3003003 ,  0.31031031,  0.32032032,  0.33033033,  0.34034034,\n",
      "        0.35035035,  0.36036036,  0.37037037,  0.38038038,  0.39039039,\n",
      "        0.4004004 ,  0.41041041,  0.42042042,  0.43043043,  0.44044044,\n",
      "        0.45045045,  0.46046046,  0.47047047,  0.48048048,  0.49049049,\n",
      "        0.5005005 ,  0.51051051,  0.52052052,  0.53053053,  0.54054054,\n",
      "        0.55055055,  0.56056056,  0.57057057,  0.58058058,  0.59059059,\n",
      "        0.6006006 ,  0.61061061,  0.62062062,  0.63063063,  0.64064064,\n",
      "        0.65065065,  0.66066066,  0.67067067,  0.68068068,  0.69069069,\n",
      "        0.7007007 ,  0.71071071,  0.72072072,  0.73073073,  0.74074074,\n",
      "        0.75075075,  0.76076076,  0.77077077,  0.78078078,  0.79079079,\n",
      "        0.8008008 ,  0.81081081,  0.82082082,  0.83083083,  0.84084084,\n",
      "        0.85085085,  0.86086086,  0.87087087,  0.88088088,  0.89089089,\n",
      "        0.9009009 ,  0.91091091,  0.92092092,  0.93093093,  0.94094094,\n",
      "        0.95095095,  0.96096096,  0.97097097,  0.98098098,  0.99099099,\n",
      "        1.001001  ,  1.01101101,  1.02102102,  1.03103103,  1.04104104,\n",
      "        1.05105105,  1.06106106,  1.07107107,  1.08108108,  1.09109109,\n",
      "        1.1011011 ,  1.11111111,  1.12112112,  1.13113113,  1.14114114,\n",
      "        1.15115115,  1.16116116,  1.17117117,  1.18118118,  1.19119119,\n",
      "        1.2012012 ,  1.21121121,  1.22122122,  1.23123123,  1.24124124,\n",
      "        1.25125125,  1.26126126,  1.27127127,  1.28128128,  1.29129129,\n",
      "        1.3013013 ,  1.31131131,  1.32132132,  1.33133133,  1.34134134,\n",
      "        1.35135135,  1.36136136,  1.37137137,  1.38138138,  1.39139139,\n",
      "        1.4014014 ,  1.41141141,  1.42142142,  1.43143143,  1.44144144,\n",
      "        1.45145145,  1.46146146,  1.47147147,  1.48148148,  1.49149149,\n",
      "        1.5015015 ,  1.51151151,  1.52152152,  1.53153153,  1.54154154,\n",
      "        1.55155155,  1.56156156,  1.57157157,  1.58158158,  1.59159159,\n",
      "        1.6016016 ,  1.61161161,  1.62162162,  1.63163163,  1.64164164,\n",
      "        1.65165165,  1.66166166,  1.67167167,  1.68168168,  1.69169169,\n",
      "        1.7017017 ,  1.71171171,  1.72172172,  1.73173173,  1.74174174,\n",
      "        1.75175175,  1.76176176,  1.77177177,  1.78178178,  1.79179179,\n",
      "        1.8018018 ,  1.81181181,  1.82182182,  1.83183183,  1.84184184,\n",
      "        1.85185185,  1.86186186,  1.87187187,  1.88188188,  1.89189189,\n",
      "        1.9019019 ,  1.91191191,  1.92192192,  1.93193193,  1.94194194,\n",
      "        1.95195195,  1.96196196,  1.97197197,  1.98198198,  1.99199199,\n",
      "        2.002002  ,  2.01201201,  2.02202202,  2.03203203,  2.04204204,\n",
      "        2.05205205,  2.06206206,  2.07207207,  2.08208208,  2.09209209,\n",
      "        2.1021021 ,  2.11211211,  2.12212212,  2.13213213,  2.14214214,\n",
      "        2.15215215,  2.16216216,  2.17217217,  2.18218218,  2.19219219,\n",
      "        2.2022022 ,  2.21221221,  2.22222222,  2.23223223,  2.24224224,\n",
      "        2.25225225,  2.26226226,  2.27227227,  2.28228228,  2.29229229,\n",
      "        2.3023023 ,  2.31231231,  2.32232232,  2.33233233,  2.34234234,\n",
      "        2.35235235,  2.36236236,  2.37237237,  2.38238238,  2.39239239,\n",
      "        2.4024024 ,  2.41241241,  2.42242242,  2.43243243,  2.44244244,\n",
      "        2.45245245,  2.46246246,  2.47247247,  2.48248248,  2.49249249,\n",
      "        2.5025025 ,  2.51251251,  2.52252252,  2.53253253,  2.54254254,\n",
      "        2.55255255,  2.56256256,  2.57257257,  2.58258258,  2.59259259,\n",
      "        2.6026026 ,  2.61261261,  2.62262262,  2.63263263,  2.64264264,\n",
      "        2.65265265,  2.66266266,  2.67267267,  2.68268268,  2.69269269,\n",
      "        2.7027027 ,  2.71271271,  2.72272272,  2.73273273,  2.74274274,\n",
      "        2.75275275,  2.76276276,  2.77277277,  2.78278278,  2.79279279,\n",
      "        2.8028028 ,  2.81281281,  2.82282282,  2.83283283,  2.84284284,\n",
      "        2.85285285,  2.86286286,  2.87287287,  2.88288288,  2.89289289,\n",
      "        2.9029029 ,  2.91291291,  2.92292292,  2.93293293,  2.94294294,\n",
      "        2.95295295,  2.96296296,  2.97297297,  2.98298298,  2.99299299,\n",
      "        3.003003  ,  3.01301301,  3.02302302,  3.03303303,  3.04304304,\n",
      "        3.05305305,  3.06306306,  3.07307307,  3.08308308,  3.09309309,\n",
      "        3.1031031 ,  3.11311311,  3.12312312,  3.13313313,  3.14314314,\n",
      "        3.15315315,  3.16316316,  3.17317317,  3.18318318,  3.19319319,\n",
      "        3.2032032 ,  3.21321321,  3.22322322,  3.23323323,  3.24324324,\n",
      "        3.25325325,  3.26326326,  3.27327327,  3.28328328,  3.29329329,\n",
      "        3.3033033 ,  3.31331331,  3.32332332,  3.33333333,  3.34334334,\n",
      "        3.35335335,  3.36336336,  3.37337337,  3.38338338,  3.39339339,\n",
      "        3.4034034 ,  3.41341341,  3.42342342,  3.43343343,  3.44344344,\n",
      "        3.45345345,  3.46346346,  3.47347347,  3.48348348,  3.49349349,\n",
      "        3.5035035 ,  3.51351351,  3.52352352,  3.53353353,  3.54354354,\n",
      "        3.55355355,  3.56356356,  3.57357357,  3.58358358,  3.59359359,\n",
      "        3.6036036 ,  3.61361361,  3.62362362,  3.63363363,  3.64364364,\n",
      "        3.65365365,  3.66366366,  3.67367367,  3.68368368,  3.69369369,\n",
      "        3.7037037 ,  3.71371371,  3.72372372,  3.73373373,  3.74374374,\n",
      "        3.75375375,  3.76376376,  3.77377377,  3.78378378,  3.79379379,\n",
      "        3.8038038 ,  3.81381381,  3.82382382,  3.83383383,  3.84384384,\n",
      "        3.85385385,  3.86386386,  3.87387387,  3.88388388,  3.89389389,\n",
      "        3.9039039 ,  3.91391391,  3.92392392,  3.93393393,  3.94394394,\n",
      "        3.95395395,  3.96396396,  3.97397397,  3.98398398,  3.99399399,\n",
      "        4.004004  ,  4.01401401,  4.02402402,  4.03403403,  4.04404404,\n",
      "        4.05405405,  4.06406406,  4.07407407,  4.08408408,  4.09409409,\n",
      "        4.1041041 ,  4.11411411,  4.12412412,  4.13413413,  4.14414414,\n",
      "        4.15415415,  4.16416416,  4.17417417,  4.18418418,  4.19419419,\n",
      "        4.2042042 ,  4.21421421,  4.22422422,  4.23423423,  4.24424424,\n",
      "        4.25425425,  4.26426426,  4.27427427,  4.28428428,  4.29429429,\n",
      "        4.3043043 ,  4.31431431,  4.32432432,  4.33433433,  4.34434434,\n",
      "        4.35435435,  4.36436436,  4.37437437,  4.38438438,  4.39439439,\n",
      "        4.4044044 ,  4.41441441,  4.42442442,  4.43443443,  4.44444444,\n",
      "        4.45445445,  4.46446446,  4.47447447,  4.48448448,  4.49449449,\n",
      "        4.5045045 ,  4.51451451,  4.52452452,  4.53453453,  4.54454454,\n",
      "        4.55455455,  4.56456456,  4.57457457,  4.58458458,  4.59459459,\n",
      "        4.6046046 ,  4.61461461,  4.62462462,  4.63463463,  4.64464464,\n",
      "        4.65465465,  4.66466466,  4.67467467,  4.68468468,  4.69469469,\n",
      "        4.7047047 ,  4.71471471,  4.72472472,  4.73473473,  4.74474474,\n",
      "        4.75475475,  4.76476476,  4.77477477,  4.78478478,  4.79479479,\n",
      "        4.8048048 ,  4.81481481,  4.82482482,  4.83483483,  4.84484484,\n",
      "        4.85485485,  4.86486486,  4.87487487,  4.88488488,  4.89489489,\n",
      "        4.9049049 ,  4.91491491,  4.92492492,  4.93493493,  4.94494494,\n",
      "        4.95495495,  4.96496496,  4.97497497,  4.98498498,  4.99499499,\n",
      "        5.00500501,  5.01501502,  5.02502503,  5.03503504,  5.04504505,\n",
      "        5.05505506,  5.06506507,  5.07507508,  5.08508509,  5.0950951 ,\n",
      "        5.10510511,  5.11511512,  5.12512513,  5.13513514,  5.14514515,\n",
      "        5.15515516,  5.16516517,  5.17517518,  5.18518519,  5.1951952 ,\n",
      "        5.20520521,  5.21521522,  5.22522523,  5.23523524,  5.24524525,\n",
      "        5.25525526,  5.26526527,  5.27527528,  5.28528529,  5.2952953 ,\n",
      "        5.30530531,  5.31531532,  5.32532533,  5.33533534,  5.34534535,\n",
      "        5.35535536,  5.36536537,  5.37537538,  5.38538539,  5.3953954 ,\n",
      "        5.40540541,  5.41541542,  5.42542543,  5.43543544,  5.44544545,\n",
      "        5.45545546,  5.46546547,  5.47547548,  5.48548549,  5.4954955 ,\n",
      "        5.50550551,  5.51551552,  5.52552553,  5.53553554,  5.54554555,\n",
      "        5.55555556,  5.56556557,  5.57557558,  5.58558559,  5.5955956 ,\n",
      "        5.60560561,  5.61561562,  5.62562563,  5.63563564,  5.64564565,\n",
      "        5.65565566,  5.66566567,  5.67567568,  5.68568569,  5.6956957 ,\n",
      "        5.70570571,  5.71571572,  5.72572573,  5.73573574,  5.74574575,\n",
      "        5.75575576,  5.76576577,  5.77577578,  5.78578579,  5.7957958 ,\n",
      "        5.80580581,  5.81581582,  5.82582583,  5.83583584,  5.84584585,\n",
      "        5.85585586,  5.86586587,  5.87587588,  5.88588589,  5.8958959 ,\n",
      "        5.90590591,  5.91591592,  5.92592593,  5.93593594,  5.94594595,\n",
      "        5.95595596,  5.96596597,  5.97597598,  5.98598599,  5.995996  ,\n",
      "        6.00600601,  6.01601602,  6.02602603,  6.03603604,  6.04604605,\n",
      "        6.05605606,  6.06606607,  6.07607608,  6.08608609,  6.0960961 ,\n",
      "        6.10610611,  6.11611612,  6.12612613,  6.13613614,  6.14614615,\n",
      "        6.15615616,  6.16616617,  6.17617618,  6.18618619,  6.1961962 ,\n",
      "        6.20620621,  6.21621622,  6.22622623,  6.23623624,  6.24624625,\n",
      "        6.25625626,  6.26626627,  6.27627628,  6.28628629,  6.2962963 ,\n",
      "        6.30630631,  6.31631632,  6.32632633,  6.33633634,  6.34634635,\n",
      "        6.35635636,  6.36636637,  6.37637638,  6.38638639,  6.3963964 ,\n",
      "        6.40640641,  6.41641642,  6.42642643,  6.43643644,  6.44644645,\n",
      "        6.45645646,  6.46646647,  6.47647648,  6.48648649,  6.4964965 ,\n",
      "        6.50650651,  6.51651652,  6.52652653,  6.53653654,  6.54654655,\n",
      "        6.55655656,  6.56656657,  6.57657658,  6.58658659,  6.5965966 ,\n",
      "        6.60660661,  6.61661662,  6.62662663,  6.63663664,  6.64664665,\n",
      "        6.65665666,  6.66666667,  6.67667668,  6.68668669,  6.6966967 ,\n",
      "        6.70670671,  6.71671672,  6.72672673,  6.73673674,  6.74674675,\n",
      "        6.75675676,  6.76676677,  6.77677678,  6.78678679,  6.7967968 ,\n",
      "        6.80680681,  6.81681682,  6.82682683,  6.83683684,  6.84684685,\n",
      "        6.85685686,  6.86686687,  6.87687688,  6.88688689,  6.8968969 ,\n",
      "        6.90690691,  6.91691692,  6.92692693,  6.93693694,  6.94694695,\n",
      "        6.95695696,  6.96696697,  6.97697698,  6.98698699,  6.996997  ,\n",
      "        7.00700701,  7.01701702,  7.02702703,  7.03703704,  7.04704705,\n",
      "        7.05705706,  7.06706707,  7.07707708,  7.08708709,  7.0970971 ,\n",
      "        7.10710711,  7.11711712,  7.12712713,  7.13713714,  7.14714715,\n",
      "        7.15715716,  7.16716717,  7.17717718,  7.18718719,  7.1971972 ,\n",
      "        7.20720721,  7.21721722,  7.22722723,  7.23723724,  7.24724725,\n",
      "        7.25725726,  7.26726727,  7.27727728,  7.28728729,  7.2972973 ,\n",
      "        7.30730731,  7.31731732,  7.32732733,  7.33733734,  7.34734735,\n",
      "        7.35735736,  7.36736737,  7.37737738,  7.38738739,  7.3973974 ,\n",
      "        7.40740741,  7.41741742,  7.42742743,  7.43743744,  7.44744745,\n",
      "        7.45745746,  7.46746747,  7.47747748,  7.48748749,  7.4974975 ,\n",
      "        7.50750751,  7.51751752,  7.52752753,  7.53753754,  7.54754755,\n",
      "        7.55755756,  7.56756757,  7.57757758,  7.58758759,  7.5975976 ,\n",
      "        7.60760761,  7.61761762,  7.62762763,  7.63763764,  7.64764765,\n",
      "        7.65765766,  7.66766767,  7.67767768,  7.68768769,  7.6976977 ,\n",
      "        7.70770771,  7.71771772,  7.72772773,  7.73773774,  7.74774775,\n",
      "        7.75775776,  7.76776777,  7.77777778,  7.78778779,  7.7977978 ,\n",
      "        7.80780781,  7.81781782,  7.82782783,  7.83783784,  7.84784785,\n",
      "        7.85785786,  7.86786787,  7.87787788,  7.88788789,  7.8978979 ,\n",
      "        7.90790791,  7.91791792,  7.92792793,  7.93793794,  7.94794795,\n",
      "        7.95795796,  7.96796797,  7.97797798,  7.98798799,  7.997998  ,\n",
      "        8.00800801,  8.01801802,  8.02802803,  8.03803804,  8.04804805,\n",
      "        8.05805806,  8.06806807,  8.07807808,  8.08808809,  8.0980981 ,\n",
      "        8.10810811,  8.11811812,  8.12812813,  8.13813814,  8.14814815,\n",
      "        8.15815816,  8.16816817,  8.17817818,  8.18818819,  8.1981982 ,\n",
      "        8.20820821,  8.21821822,  8.22822823,  8.23823824,  8.24824825,\n",
      "        8.25825826,  8.26826827,  8.27827828,  8.28828829,  8.2982983 ,\n",
      "        8.30830831,  8.31831832,  8.32832833,  8.33833834,  8.34834835,\n",
      "        8.35835836,  8.36836837,  8.37837838,  8.38838839,  8.3983984 ,\n",
      "        8.40840841,  8.41841842,  8.42842843,  8.43843844,  8.44844845,\n",
      "        8.45845846,  8.46846847,  8.47847848,  8.48848849,  8.4984985 ,\n",
      "        8.50850851,  8.51851852,  8.52852853,  8.53853854,  8.54854855,\n",
      "        8.55855856,  8.56856857,  8.57857858,  8.58858859,  8.5985986 ,\n",
      "        8.60860861,  8.61861862,  8.62862863,  8.63863864,  8.64864865,\n",
      "        8.65865866,  8.66866867,  8.67867868,  8.68868869,  8.6986987 ,\n",
      "        8.70870871,  8.71871872,  8.72872873,  8.73873874,  8.74874875,\n",
      "        8.75875876,  8.76876877,  8.77877878,  8.78878879,  8.7987988 ,\n",
      "        8.80880881,  8.81881882,  8.82882883,  8.83883884,  8.84884885,\n",
      "        8.85885886,  8.86886887,  8.87887888,  8.88888889,  8.8988989 ,\n",
      "        8.90890891,  8.91891892,  8.92892893,  8.93893894,  8.94894895,\n",
      "        8.95895896,  8.96896897,  8.97897898,  8.98898899,  8.998999  ,\n",
      "        9.00900901,  9.01901902,  9.02902903,  9.03903904,  9.04904905,\n",
      "        9.05905906,  9.06906907,  9.07907908,  9.08908909,  9.0990991 ,\n",
      "        9.10910911,  9.11911912,  9.12912913,  9.13913914,  9.14914915,\n",
      "        9.15915916,  9.16916917,  9.17917918,  9.18918919,  9.1991992 ,\n",
      "        9.20920921,  9.21921922,  9.22922923,  9.23923924,  9.24924925,\n",
      "        9.25925926,  9.26926927,  9.27927928,  9.28928929,  9.2992993 ,\n",
      "        9.30930931,  9.31931932,  9.32932933,  9.33933934,  9.34934935,\n",
      "        9.35935936,  9.36936937,  9.37937938,  9.38938939,  9.3993994 ,\n",
      "        9.40940941,  9.41941942,  9.42942943,  9.43943944,  9.44944945,\n",
      "        9.45945946,  9.46946947,  9.47947948,  9.48948949,  9.4994995 ,\n",
      "        9.50950951,  9.51951952,  9.52952953,  9.53953954,  9.54954955,\n",
      "        9.55955956,  9.56956957,  9.57957958,  9.58958959,  9.5995996 ,\n",
      "        9.60960961,  9.61961962,  9.62962963,  9.63963964,  9.64964965,\n",
      "        9.65965966,  9.66966967,  9.67967968,  9.68968969,  9.6996997 ,\n",
      "        9.70970971,  9.71971972,  9.72972973,  9.73973974,  9.74974975,\n",
      "        9.75975976,  9.76976977,  9.77977978,  9.78978979,  9.7997998 ,\n",
      "        9.80980981,  9.81981982,  9.82982983,  9.83983984,  9.84984985,\n",
      "        9.85985986,  9.86986987,  9.87987988,  9.88988989,  9.8998999 ,\n",
      "        9.90990991,  9.91991992,  9.92992993,  9.93993994,  9.94994995,\n",
      "        9.95995996,  9.96996997,  9.97997998,  9.98998999, 10.        ])\n",
      " t_events: None\n",
      "        y: array([[  5.        ,   5.07997988,   5.15975936,   5.23933844,\n",
      "          5.31871712,   5.39789539,   5.47687327,   5.55565075,\n",
      "          5.63422782,   5.7126045 ,   5.79078077,   5.86875664,\n",
      "          5.94653212,   6.02410719,   6.10148186,   6.17865613,\n",
      "          6.25563   ,   6.33240347,   6.40897654,   6.48534921,\n",
      "          6.56152148,   6.63749335,   6.71326482,   6.78883588,\n",
      "          6.86420655,   6.93937681,   7.01434668,   7.08911614,\n",
      "          7.16368521,   7.23805387,   7.31222213,   7.38618999,\n",
      "          7.45995745,   7.53352452,   7.60689118,   7.68005743,\n",
      "          7.75302329,   7.82578875,   7.89835381,   7.97071847,\n",
      "          8.04288272,   8.11484658,   8.18661003,   8.25817309,\n",
      "          8.32953574,   8.400698  ,   8.47165985,   8.5424213 ,\n",
      "          8.61298235,   8.683343  ,   8.75350325,   8.8234631 ,\n",
      "          8.89322255,   8.9627816 ,   9.03214025,   9.1012985 ,\n",
      "          9.17025634,   9.23901379,   9.30757083,   9.37592748,\n",
      "          9.44408372,   9.51203957,   9.57979501,   9.64735005,\n",
      "          9.71470469,   9.78185894,   9.84881278,   9.91556622,\n",
      "          9.98211926,  10.0484719 ,  10.11462413,  10.18057597,\n",
      "         10.24632741,  10.31187845,  10.37722908,  10.44237932,\n",
      "         10.50732915,  10.57207859,  10.63662762,  10.70097625,\n",
      "         10.76512448,  10.82907232,  10.89281975,  10.95636678,\n",
      "         11.01971341,  11.08285964,  11.14580547,  11.20855089,\n",
      "         11.27109592,  11.33344055,  11.39558477,  11.4575286 ,\n",
      "         11.51927202,  11.58081505,  11.64215767,  11.7032999 ,\n",
      "         11.76424172,  11.82498314,  11.88552416,  11.94586478,\n",
      "         12.006005  ,  12.06594482,  12.12568424,  12.18522326,\n",
      "         12.24456188,  12.3037001 ,  12.36263791,  12.42137533,\n",
      "         12.47991234,  12.53824896,  12.59638517,  12.65432099,\n",
      "         12.7120564 ,  12.76959141,  12.82692603,  12.88406024,\n",
      "         12.94099405,  12.99772746,  13.05426047,  13.11059308,\n",
      "         13.16672528,  13.22265709,  13.2783885 ,  13.33391951,\n",
      "         13.38925011,  13.44438032,  13.49931012,  13.55403953,\n",
      "         13.60856853,  13.66289713,  13.71702533,  13.77095314,\n",
      "         13.82468054,  13.87820754,  13.93153414,  13.98466034,\n",
      "         14.03758613,  14.09031153,  14.14283653,  14.19516113,\n",
      "         14.24728532,  14.29920912,  14.35093251,  14.40245551,\n",
      "         14.4537781 ,  14.5049003 ,  14.55582209,  14.60654348,\n",
      "         14.65706447,  14.70738506,  14.75750525,  14.80742504,\n",
      "         14.85714443,  14.90666342,  14.95598201,  15.0051002 ,\n",
      "         15.05401798,  15.10273537,  15.15125235,  15.19956894,\n",
      "         15.24768512,  15.29560091,  15.34331629,  15.39083127,\n",
      "         15.43814585,  15.48526003,  15.53217382,  15.5788872 ,\n",
      "         15.62540017,  15.67171275,  15.71782493,  15.76373671,\n",
      "         15.80944809,  15.85495906,  15.90026964,  15.94537981,\n",
      "         15.99028959,  16.03499896,  16.07950794,  16.12381651,\n",
      "         16.16792468,  16.21183245,  16.25553982,  16.29904679,\n",
      "         16.34235336,  16.38545953,  16.4283653 ,  16.47107067,\n",
      "         16.51357564,  16.5558802 ,  16.59798437,  16.63988814,\n",
      "         16.6815915 ,  16.72309447,  16.76439703,  16.80549919,\n",
      "         16.84640096,  16.88710232,  16.92760328,  16.96790384,\n",
      "         17.008004  ,  17.04790376,  17.08760312,  17.12710208,\n",
      "         17.16640063,  17.20549879,  17.24439655,  17.2830939 ,\n",
      "         17.32159086,  17.35988741,  17.39798357,  17.43587932,\n",
      "         17.47357468,  17.51106963,  17.54836418,  17.58545833,\n",
      "         17.62235208,  17.65904543,  17.69553838,  17.73183093,\n",
      "         17.76792308,  17.80381483,  17.83950617,  17.87499712,\n",
      "         17.91028767,  17.94537781,  17.98026755,  18.0149569 ,\n",
      "         18.04944584,  18.08373439,  18.11782253,  18.15171027,\n",
      "         18.18539761,  18.21888455,  18.25217109,  18.28525723,\n",
      "         18.31814297,  18.35082831,  18.38331324,  18.41559778,\n",
      "         18.44768192,  18.47956565,  18.51124899,  18.54273192,\n",
      "         18.57401445,  18.60509659,  18.63597832,  18.66665965,\n",
      "         18.69714058,  18.72742111,  18.75750124,  18.78738097,\n",
      "         18.8170603 ,  18.84653923,  18.87581776,  18.90489589,\n",
      "         18.93377361,  18.96245094,  18.99092786,  19.01920439,\n",
      "         19.04728051,  19.07515624,  19.10283156,  19.13030648,\n",
      "         19.157581  ,  19.18465513,  19.21152885,  19.23820217,\n",
      "         19.26467509,  19.2909476 ,  19.31701972,  19.34289144,\n",
      "         19.36856276,  19.39403367,  19.41930419,  19.4443743 ,\n",
      "         19.46924402,  19.49391333,  19.51838225,  19.54265076,\n",
      "         19.56671887,  19.59058658,  19.61425389,  19.6377208 ,\n",
      "         19.66098731,  19.68405342,  19.70691913,  19.72958444,\n",
      "         19.75204935,  19.77431385,  19.79637796,  19.81824167,\n",
      "         19.83990497,  19.86136787,  19.88263038,  19.90369248,\n",
      "         19.92455418,  19.94521549,  19.96567639,  19.98593689,\n",
      "         20.00599699,  20.02585669,  20.04551599,  20.06497488,\n",
      "         20.08423338,  20.10329148,  20.12214918,  20.14080647,\n",
      "         20.15926337,  20.17751986,  20.19557596,  20.21343165,\n",
      "         20.23108694,  20.24854184,  20.26579633,  20.28285042,\n",
      "         20.29970411,  20.3163574 ,  20.33281029,  20.34906278,\n",
      "         20.36511486,  20.38096655,  20.39661784,  20.41206873,\n",
      "         20.42731921,  20.4423693 ,  20.45721898,  20.47186826,\n",
      "         20.48631715,  20.50056563,  20.51461371,  20.52846139,\n",
      "         20.54210868,  20.55555556,  20.56880204,  20.58184811,\n",
      "         20.59469379,  20.60733907,  20.61978395,  20.63202842,\n",
      "         20.6440725 ,  20.65591618,  20.66755945,  20.67900233,\n",
      "         20.6902448 ,  20.70128687,  20.71212854,  20.72276982,\n",
      "         20.73321069,  20.74345116,  20.75349123,  20.7633309 ,\n",
      "         20.77297017,  20.78240904,  20.7916475 ,  20.80068557,\n",
      "         20.80952324,  20.8181605 ,  20.82659737,  20.83483383,\n",
      "         20.8428699 ,  20.85070556,  20.85834082,  20.86577569,\n",
      "         20.87301015,  20.88004421,  20.88687787,  20.89351113,\n",
      "         20.89994399,  20.90617645,  20.9122085 ,  20.91804016,\n",
      "         20.92367142,  20.92910228,  20.93433273,  20.93936279,\n",
      "         20.94419244,  20.94882169,  20.95325055,  20.957479  ,\n",
      "         20.96150705,  20.9653347 ,  20.96896195,  20.97238881,\n",
      "         20.97561525,  20.9786413 ,  20.98146695,  20.9840922 ,\n",
      "         20.98651705,  20.98874149,  20.99076554,  20.99258919,\n",
      "         20.99421243,  20.99563527,  20.99685772,  20.99787976,\n",
      "         20.9987014 ,  20.99932265,  20.99974349,  20.99996393,\n",
      "         20.99998397,  20.99980361,  20.99942285,  20.99884168,\n",
      "         20.99806012,  20.99707816,  20.9958958 ,  20.99451303,\n",
      "         20.99292987,  20.9911463 ,  20.98916234,  20.98697797,\n",
      "         20.9845932 ,  20.98200803,  20.97922247,  20.9762365 ,\n",
      "         20.97305013,  20.96966336,  20.96607619,  20.96228861,\n",
      "         20.95830064,  20.95411227,  20.9497235 ,  20.94513432,\n",
      "         20.94034475,  20.93535477,  20.9301644 ,  20.92477362,\n",
      "         20.91918245,  20.91339087,  20.90739889,  20.90120651,\n",
      "         20.89481373,  20.88822055,  20.88142697,  20.87443299,\n",
      "         20.86723861,  20.85984383,  20.85224865,  20.84445306,\n",
      "         20.83645708,  20.82826069,  20.81986391,  20.81126672,\n",
      "         20.80246914,  20.79347115,  20.78427276,  20.77487397,\n",
      "         20.76527478,  20.75547519,  20.7454752 ,  20.73527481,\n",
      "         20.72487402,  20.71427283,  20.70347124,  20.69246925,\n",
      "         20.68126685,  20.66986406,  20.65826086,  20.64645727,\n",
      "         20.63445327,  20.62224888,  20.60984408,  20.59723888,\n",
      "         20.58443328,  20.57142728,  20.55822088,  20.54481408,\n",
      "         20.53120688,  20.51739928,  20.50339128,  20.48918288,\n",
      "         20.47477407,  20.46016487,  20.44535527,  20.43034526,\n",
      "         20.41513485,  20.39972405,  20.38411284,  20.36830123,\n",
      "         20.35228923,  20.33607682,  20.31966401,  20.3030508 ,\n",
      "         20.28623719,  20.26922318,  20.25200877,  20.23459395,\n",
      "         20.21697874,  20.19916313,  20.18114711,  20.1629307 ,\n",
      "         20.14451388,  20.12589667,  20.10707905,  20.08806103,\n",
      "         20.06884262,  20.0494238 ,  20.02980458,  20.00998496,\n",
      "         19.98996494,  19.96974452,  19.9493237 ,  19.92870248,\n",
      "         19.90788085,  19.88685883,  19.86563641,  19.84421358,\n",
      "         19.82259036,  19.80076673,  19.77874271,  19.75651828,\n",
      "         19.73409345,  19.71146822,  19.6886426 ,  19.66561657,\n",
      "         19.64239014,  19.61896331,  19.59533608,  19.57150845,\n",
      "         19.54748041,  19.52325198,  19.49882315,  19.47419391,\n",
      "         19.44936428,  19.42433424,  19.39910381,  19.37367297,\n",
      "         19.34804174,  19.3222101 ,  19.29617806,  19.26994562,\n",
      "         19.24351278,  19.21687954,  19.1900459 ,  19.16301186,\n",
      "         19.13577742,  19.10834258,  19.08070733,  19.05287169,\n",
      "         19.02483565,  18.9965992 ,  18.96816236,  18.93952511,\n",
      "         18.91068746,  18.88164942,  18.85241097,  18.82297212,\n",
      "         18.79333287,  18.76349322,  18.73345317,  18.70321272,\n",
      "         18.67277187,  18.64213062,  18.61128897,  18.58024691,\n",
      "         18.54900446,  18.51756161,  18.48591835,  18.4540747 ,\n",
      "         18.42203064,  18.38978618,  18.35734133,  18.32469607,\n",
      "         18.29185041,  18.25880435,  18.22555789,  18.19211103,\n",
      "         18.15846377,  18.12461611,  18.09056805,  18.05631958,\n",
      "         18.02187072,  17.98722146,  17.95237179,  17.91732173,\n",
      "         17.88207126,  17.84662039,  17.81096913,  17.77511746,\n",
      "         17.73906539,  17.70281292,  17.66636005,  17.62970678,\n",
      "         17.59285311,  17.55579904,  17.51854457,  17.4810897 ,\n",
      "         17.44343443,  17.40557875,  17.36752268,  17.3292662 ,\n",
      "         17.29080933,  17.25215205,  17.21329438,  17.1742363 ,\n",
      "         17.13497782,  17.09551894,  17.05585966,  17.01599998,\n",
      "         16.9759399 ,  16.93567942,  16.89521854,  16.85455726,\n",
      "         16.81369558,  16.77263349,  16.73137101,  16.68990813,\n",
      "         16.64824484,  16.60638116,  16.56431707,  16.52205258,\n",
      "         16.4795877 ,  16.43692241,  16.39405672,  16.35099063,\n",
      "         16.30772414,  16.26425725,  16.22058996,  16.17672227,\n",
      "         16.13265418,  16.08838568,  16.04391679,  15.9992475 ,\n",
      "         15.9543778 ,  15.90930771,  15.86403721,  15.81856631,\n",
      "         15.77289502,  15.72702332,  15.68095122,  15.63467872,\n",
      "         15.58820582,  15.54153252,  15.49465882,  15.44758472,\n",
      "         15.40031022,  15.35283532,  15.30516001,  15.25728431,\n",
      "         15.20920821,  15.1609317 ,  15.1124548 ,  15.06377749,\n",
      "         15.01489978,  14.96582168,  14.91654317,  14.86706426,\n",
      "         14.81738495,  14.76750524,  14.71742513,  14.66714462,\n",
      "         14.61666371,  14.5659824 ,  14.51510069,  14.46401857,\n",
      "         14.41273606,  14.36125315,  14.30956983,  14.25768611,\n",
      "         14.205602  ,  14.15331748,  14.10083256,  14.04814725,\n",
      "         13.99526153,  13.94217541,  13.88888889,  13.83540197,\n",
      "         13.78171465,  13.72782693,  13.6737388 ,  13.61945028,\n",
      "         13.56496136,  13.51027203,  13.45538231,  13.40029218,\n",
      "         13.34500166,  13.28951073,  13.2338194 ,  13.17792768,\n",
      "         13.12183555,  13.06554302,  13.00905009,  12.95235676,\n",
      "         12.89546303,  12.8383689 ,  12.78107437,  12.72357944,\n",
      "         12.6658841 ,  12.60798837,  12.54989223,  12.4915957 ,\n",
      "         12.43309876,  12.37440143,  12.31550369,  12.25640555,\n",
      "         12.19710702,  12.13760808,  12.07790874,  12.018009  ,\n",
      "         11.95790886,  11.89760832,  11.83710738,  11.77640604,\n",
      "         11.71550429,  11.65440215,  11.59309961,  11.53159666,\n",
      "         11.46989332,  11.40798957,  11.34588542,  11.28358088,\n",
      "         11.22107593,  11.15837058,  11.09546483,  11.03235869,\n",
      "         10.96905214,  10.90554518,  10.84183783,  10.77793008,\n",
      "         10.71382193,  10.64951338,  10.58500442,  10.52029507,\n",
      "         10.45538532,  10.39027516,  10.3249646 ,  10.25945365,\n",
      "         10.19374229,  10.12783053,  10.06171838,   9.99540582,\n",
      "          9.92889286,   9.8621795 ,   9.79526574,   9.72815157,\n",
      "          9.66083701,   9.59332205,   9.52560669,   9.45769092,\n",
      "          9.38957476,   9.3212582 ,   9.25274123,   9.18402386,\n",
      "          9.1151061 ,   9.04598793,   8.97666936,   8.90715039,\n",
      "          8.83743102,   8.76751125,   8.69739108,   8.62707051,\n",
      "          8.55654954,   8.48582817,   8.4149064 ,   8.34378422,\n",
      "          8.27246165,   8.20093868,   8.1292153 ,   8.05729153,\n",
      "          7.98516735,   7.91284277,   7.8403178 ,   7.76759242,\n",
      "          7.69466664,   7.62154046,   7.54821388,   7.4746869 ,\n",
      "          7.40095952,   7.32703174,   7.25290355,   7.17857497,\n",
      "          7.10404599,   7.0293166 ,   6.95438682,   6.87925663,\n",
      "          6.80392605,   6.72839506,   6.65266367,   6.57673189,\n",
      "          6.5005997 ,   6.42426711,   6.34773412,   6.27100073,\n",
      "          6.19406694,   6.11693275,   6.03959816,   5.96206316,\n",
      "          5.88432777,   5.80639198,   5.72825578,   5.64991919,\n",
      "          5.57138219,   5.4926448 ,   5.413707  ,   5.3345688 ,\n",
      "          5.25523021,   5.17569121,   5.09595181,   5.01601201,\n",
      "          4.93587181,   4.85553121,   4.77499021,   4.6942488 ,\n",
      "          4.613307  ,   4.5321648 ,   4.45082219,   4.36927919,\n",
      "          4.28753578,   4.20559198,   4.12344777,   4.04110317,\n",
      "          3.95855816,   3.87581275,   3.79286694,   3.70972073,\n",
      "          3.62637412,   3.54282711,   3.4590797 ,   3.37513189,\n",
      "          3.29098368,   3.20663506,   3.12208605,   3.03733664,\n",
      "          2.95238682,   2.86723661,   2.78188599,   2.69633497,\n",
      "          2.61058356,   2.52463174,   2.43847952,   2.3521269 ,\n",
      "          2.26557388,   2.17882046,   2.09186664,   2.00471242,\n",
      "          1.9173578 ,   1.82980278,   1.74204735,   1.65409153,\n",
      "          1.5659353 ,   1.47757868,   1.38902165,   1.30026423,\n",
      "          1.2113064 ,   1.12214817,   1.03278955,   0.94323052,\n",
      "          0.85347109,   0.76351126,   0.67335103,   0.5829904 ,\n",
      "          0.49242937,   0.40166793,   0.3107061 ,   0.21954387,\n",
      "          0.12818123,   0.0366182 ,  -0.05514524,  -0.14710907,\n",
      "         -0.23927331,  -0.33163794,  -0.42420298,  -0.51696842,\n",
      "         -0.60993426,  -0.7031005 ,  -0.79646714,  -0.89003418,\n",
      "         -0.98380162,  -1.07776946,  -1.1719377 ,  -1.26630635,\n",
      "         -1.36087539,  -1.45564483,  -1.55061468,  -1.64578492,\n",
      "         -1.74115557,  -1.83672662,  -1.93249806,  -2.02846991,\n",
      "         -2.12464216,  -2.22101481,  -2.31758786,  -2.41436131,\n",
      "         -2.51133516,  -2.60850941,  -2.70588406,  -2.80345911,\n",
      "         -2.90123457,  -2.99921042,  -3.09738668,  -3.19576333,\n",
      "         -3.29434039,  -3.39311784,  -3.4920957 ,  -3.59127396,\n",
      "         -3.69065261,  -3.79023167,  -3.89001113,  -3.98999099,\n",
      "         -4.09017125,  -4.19055191,  -4.29113297,  -4.39191444,\n",
      "         -4.4928963 ,  -4.59407856,  -4.69546123,  -4.79704429,\n",
      "         -4.89882776,  -5.00081162,  -5.10299589,  -5.20538056,\n",
      "         -5.30796562,  -5.41075109,  -5.51373696,  -5.61692323,\n",
      "         -5.7203099 ,  -5.82389697,  -5.92768444,  -6.03167231,\n",
      "         -6.13586059,  -6.24024926,  -6.34483833,  -6.44962781,\n",
      "         -6.55461768,  -6.65980796,  -6.76519863,  -6.87078971,\n",
      "         -6.97658119,  -7.08257306,  -7.18876534,  -7.29515802,\n",
      "         -7.4017511 ,  -7.50854458,  -7.61553846,  -7.72273274,\n",
      "         -7.83012742,  -7.93772251,  -8.04551799,  -8.15351387,\n",
      "         -8.26171016,  -8.37010684,  -8.47870393,  -8.58750142,\n",
      "         -8.6964993 ,  -8.80569759,  -8.91509628,  -9.02469537,\n",
      "         -9.13449486,  -9.24449474,  -9.35469504,  -9.46509573,\n",
      "         -9.57569682,  -9.68649831,  -9.7975002 ,  -9.9087025 ,\n",
      "        -10.02010519, -10.13170828, -10.24351178, -10.35551568,\n",
      "        -10.46771997, -10.58012467, -10.69272977, -10.80553526,\n",
      "        -10.91854116, -11.03174746, -11.14515416, -11.25876126,\n",
      "        -11.37256876, -11.48657667, -11.60078497, -11.71519367,\n",
      "        -11.82980278, -11.94461228, -12.05962218, -12.17483249,\n",
      "        -12.2902432 , -12.4058543 , -12.52166581, -12.63767772,\n",
      "        -12.75389003, -12.87030274, -12.98691584, -13.10372935,\n",
      "        -13.22074327, -13.33795758, -13.45537229, -13.5729874 ,\n",
      "        -13.69080292, -13.80881883, -13.92703514, -14.04545186,\n",
      "        -14.16406897, -14.28288649, -14.40190441, -14.52112272,\n",
      "        -14.64054144, -14.76016056, -14.87998008, -15.        ]])\n",
      " y_events: None\n"
     ]
    }
   ],
   "source": [
    "soln=solve_ivp(deri, t_span, x0, t_eval=t, args=(a,b))\n",
    "#Uncomment the command below to see what this object soln holds\n",
    "print(soln)"
   ]
  },
  {
   "cell_type": "markdown",
   "metadata": {},
   "source": [
    "We are interested in getting the solution, ie values of $x$. Since we provided 1000 values of $t$, we must get 1000 values of $x$. The solution can be obtained as:"
   ]
  },
  {
   "cell_type": "code",
   "execution_count": 52,
   "metadata": {
    "ExecuteTime": {
     "end_time": "2021-06-06T08:57:08.516637Z",
     "start_time": "2021-06-06T08:57:08.510881Z"
    }
   },
   "outputs": [
    {
     "name": "stdout",
     "output_type": "stream",
     "text": [
      "(1, 1000)\n"
     ]
    }
   ],
   "source": [
    "#print(soln.y)\n",
    "print(soln.y.shape) #Gives (1,1000) that is 1st order ODE evaluated at 1000 points"
   ]
  },
  {
   "cell_type": "code",
   "execution_count": 53,
   "metadata": {
    "ExecuteTime": {
     "end_time": "2021-06-06T08:57:17.122469Z",
     "start_time": "2021-06-06T08:57:17.117877Z"
    }
   },
   "outputs": [],
   "source": [
    "#The solution x is now\n",
    "x=soln.y[0] #We will see the significance of [0] in the 2nd case\n",
    "t_points=soln.t #Same as the t above"
   ]
  },
  {
   "cell_type": "markdown",
   "metadata": {},
   "source": [
    "Let us see how the solution looks"
   ]
  },
  {
   "cell_type": "code",
   "execution_count": 54,
   "metadata": {
    "ExecuteTime": {
     "end_time": "2021-06-06T08:57:40.202390Z",
     "start_time": "2021-06-06T08:57:40.078290Z"
    }
   },
   "outputs": [
    {
     "data": {
      "image/png": "[encoded data removed]",
      "text/plain": [
       "<Figure size 720x432 with 1 Axes>"
      ]
     },
     "metadata": {
      "needs_background": "light"
     },
     "output_type": "display_data"
    }
   ],
   "source": [
    "plt.figure(figsize=(10,6))\n",
    "plt.plot(t_points, x)\n",
    "plt.xlabel('t',size=20)\n",
    "plt.ylabel('x',size=20)\n",
    "plt.title('Solution of the ODE',size=20)\n",
    "plt.grid()\n",
    "plt.show()"
   ]
  },
  {
   "cell_type": "markdown",
   "metadata": {},
   "source": [
    "That indeed is a parabola! Let's now move on to higher order ODEs and consequently family of ODEs.\n",
    "### Higher Order ODEs and Family of ODEs\n",
    "We cannot solve higher order ODEs using `solve_ivp`. So to tackle this, we break the Nth order ODE into N 1st order ODEs thus creating a family of ODEs. Consider the example of a LCR circuit. Using Kirchoff's law we get the equation: <br> <br>$$L\\frac{d^2Q}{dt^2}+R\\frac{dQ}{dt}+\\frac{Q}{C}=V$$ <br>which is a 2nd order ODE. As you would be aware there are three cases: underdamped, overdamped and critically damped. We will not get into the details and simply take the parameters values for the underdamped case. This 2nd order ODE can be broken by substituting $I=\\frac{dQ}{dt}$, doing so we get the family of two ODEs: $$\\frac{dQ}{dt}=I$$ <br>$$\\frac{dI}{dt}=-\\frac{R}{L}I-\\frac{Q}{LC}+\\frac{V}{L}$$. <br>To draw similarity to the previous case, we define the vector $X=(Q,I)$ (called the state of the system) and the ODE takes the form <br> <br>$$\\frac{dX}{dt}=f(X)$$. "
   ]
  },
  {
   "cell_type": "code",
   "execution_count": 20,
   "metadata": {},
   "outputs": [],
   "source": [
    "#Define the derivative function\n",
    "def deri(t, state, R, L, C, V):\n",
    "    Q=state[0] #State=[Q,I]\n",
    "    I=state[1]\n",
    "    return [I, -(R*I)/L-Q/(L*C)+V/L] #Function returns [dQ/dt, dI/dt]"
   ]
  },
  {
   "cell_type": "code",
   "execution_count": 21,
   "metadata": {},
   "outputs": [],
   "source": [
    "#Define the time span and the time instants\n",
    "t0=0\n",
    "tf=200\n",
    "t_span=(t0,tf)\n",
    "t=np.linspace(t0,tf,1000)"
   ]
  },
  {
   "cell_type": "code",
   "execution_count": 22,
   "metadata": {},
   "outputs": [],
   "source": [
    "#Define the initial conditions\n",
    "cond=np.array([0,1]) #We had a 2nd order ODE so two initial conditions: Q(0) and I(0)"
   ]
  },
  {
   "cell_type": "code",
   "execution_count": 23,
   "metadata": {},
   "outputs": [],
   "source": [
    "#Set the parameter values\n",
    "R=1\n",
    "L=16\n",
    "C=1\n",
    "V=5"
   ]
  },
  {
   "cell_type": "code",
   "execution_count": 24,
   "metadata": {},
   "outputs": [],
   "source": [
    "#Lets solve the equation now\n",
    "soln=solve_ivp(deri, t_span, cond, t_eval=t, args=(R,L,C,V))"
   ]
  },
  {
   "cell_type": "code",
   "execution_count": 25,
   "metadata": {},
   "outputs": [
    {
     "name": "stdout",
     "output_type": "stream",
     "text": [
      "(2, 1000)\n"
     ]
    }
   ],
   "source": [
    "#Obtain the solution\n",
    "state=soln.y\n",
    "print(state.shape) #(2,1000) because now we have two 1st order ODEs evaluated at 1000 points"
   ]
  },
  {
   "cell_type": "markdown",
   "metadata": {},
   "source": [
    "Let's visualize the solution we have obtained"
   ]
  },
  {
   "cell_type": "code",
   "execution_count": 26,
   "metadata": {},
   "outputs": [
    {
     "data": {
      "image/png": "[encoded data removed]",
      "text/plain": [
       "<Figure size 864x576 with 2 Axes>"
      ]
     },
     "metadata": {
      "needs_background": "light"
     },
     "output_type": "display_data"
    }
   ],
   "source": [
    "plt.figure(figsize=(12,8))\n",
    "plt.subplot(211)\n",
    "plt.plot(t,state[0], 'r')\n",
    "plt.grid()\n",
    "plt.ylabel('Charge Q',size=15)\n",
    "plt.subplot(212)\n",
    "plt.plot(t,state[1])\n",
    "plt.grid()\n",
    "plt.ylabel('Current I',size=15)\n",
    "plt.xlabel('Time t',size=15)\n",
    "plt.show()"
   ]
  }
 ],
 "metadata": {
  "interpreter": {
   "hash": "3cff1272e5c073060f2c879776ce51ecb66d0b4446b2a082542d28683d65fce0"
  },
  "kernelspec": {
   "display_name": "Python 3.8.8 64-bit ('base': conda)",
   "name": "python3"
  },
  "language_info": {
   "name": "python",
   "version": ""
  }
 },
 "nbformat": 4,
 "nbformat_minor": 4
}