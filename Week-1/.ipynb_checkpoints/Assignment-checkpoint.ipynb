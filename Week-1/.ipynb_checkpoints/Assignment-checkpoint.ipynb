{
 "cells": [
  {
   "cell_type": "markdown",
   "metadata": {},
   "source": [
    "# Week 1 : Assignment\n",
    "\n",
    "<p align=\"centre\">\n",
    "<img src=\"assets/meme5.jpg\" width=\"400\">\n",
    "</p>\n",
    "\n",
    "We know it hurts, and the single most thing going on in your head right now is\n",
    "\n",
    "<p align=\"centre\">\n",
    "<img src=\"assets/meme6.jpeg\" width=\"400\">\n",
    "</p>\n",
    "\n",
    "But relax! The asssignment questions are fun and easy, unlike your mookit ones. Feel the motive behind the question and use the recently acquired learning of different libraries to ultimately solve them. Stuck on some function? Feel free to google it. But the _**recommended way**_ is to harness the power of Jupyter notebooks!\n",
    "\n",
    "- Place the cursor inside the parenthesis of the function, say `np.sum()`, hold down shift , and press tab.\n",
    "- Or type a function name with a question mark after it, like\n",
    "    ```python\n",
    "    import numpy as np\n",
    "    np.sum?\n",
    "    ```\n",
    "    \n",
    "With this little tool kept in mind, let's proceed!"
   ]
  },
  {
   "cell_type": "markdown",
   "metadata": {},
   "source": [
    "# Python Basics\n",
    "\n",
    "You are given a 'galaxies.csv' file which contains data for galaxies observed by the Sloan Digital Sky Survey(SDSS) - Mapping Nearby Galaxies At Apache Point Observatory(MaNGA). The file contains basic properties of each galaxy observed, namely the following:\n",
    "\n",
    " -   serialno - A Serial Number we have assigned to each galaxy\n",
    " -   objra (in degrees) - The Right Ascension of the galaxy\n",
    " -   objdec (in degrees) - The Declination of the galaxy\n",
    " -   redshift - The observed redshift in the spectra of the galaxy\n",
    "\n",
    "Right Ascension and Declination are a set of coordinates used to describe positions of objects in the sky in astrophysics. It is a spherical coordinate system similar to the Longitude and Latitude used to describe positions on the Earth's Surface. (in fact RA and Dec can be visualized as projections of the Longitude and Latitude on the sky)\n",
    "\n",
    "Redshift describes how much the spectrum of a galaxy is shifted with respect to when the galaxy is stationary with respect to us.\n",
    "\n",
    "This is due to the Doppler Effect; the apparent wavelength of an object moving away from us is larger than its actual wavelength( wavelength as seen from the object's rest frame). And vice versa for an object moving towards us, and this phenomena is called blueshift.\n",
    "\n",
    "Now, for galaxies that are located reasonably far away (like the galaxies observed by SDSS-MaNGA), we can assume that the redshift is primarily caused due to the expansion of space itself (Yes!!! we have entered the realm of cosmology), so we can use cosmological relations to calculate the distances to these objects, given their redshifts.\n",
    "\n",
    "Your task is the following:\n",
    "\n",
    "-  Compute the distance to a galaxy, in suitable units, given the galaxy's serial number.\n",
    "\n",
    "- Compute the number of galaxies observed by SDSS-MaNGA, in some given distance interval.\n",
    "\n",
    "-  Compute the physical separation between two galaxies, given their serial numbers. Note: The two galaxies might be at different radial distances.\n",
    "\n",
    "The above tasks must be done using functions (which take the input of one (or two, as required) arguments)\n",
    "\n",
    "You can use the following information:\n",
    "\n",
    " -   **Hubble–Lemaître law**: Observations by Edwin Hubble in the early 1900s suggested that far away galaxies all move away from us with velocities (called recession velocity) approximately proportional to their distances. $$v = H_0 \\times d$$ Where $v$ is the recession velocity, and $H_0$ is the Hubble constant (for this assignment, you can take it to be 70 (Km/s)/Mpc) and $d$ is the instantaneous distance between the source and the observer.\n",
    "\n",
    " -   Using the **Doppler shift**, we can measure the velocities of these galaxies using the formula $$v = z \\times c$$ Where $v$ is defined earlier, $c$ is the speed of light in vacuum and $z$ is the redshift. This is an approximate relation, valid for z<<1. Almost all redshifts observed by SDSS-MaNGA are less than 0.15, hence you can use this relation as an approximation. It is encouraged to derive this equation from the standard formula for Doppler effect of light.\n",
    "\n",
    "We are assuming that the redshifts are small enough that the non linear cosmological effects are negligible.\n",
    "\n",
    " -   The **angular separation** between two objects, given their RA and Dec: $$ \\cos(\\theta) = \\sin(\\delta_1)\\sin(\\delta_2) + \\cos(\\delta_1)\\cos(\\delta_2)\\cos(\\alpha_1 - \\alpha_2) $$ Where $\\delta_1$ and $\\delta_2$ denotes the declination of the two objects respectively, $\\alpha_1$ and $\\alpha_2$ denotes the right ascension of the two objects respectively, and $\\theta$ denotes the angular separation between them. The above relation can be derived using laws of spherical trigonometry. If you are interested in a derivation, you can check out: http://www.castor2.ca/07_News/headline_062515.html\n",
    "\n",
    "    You could alternatively try to convert the coordinates of the galaxies to a Cartesian System. In this case, the RA would be analogous to the azimuthal angle, and the delination would be the co-polar (or elevation) angle.\n",
    "\n"
   ]
  },
  {
   "cell_type": "code",
   "execution_count": 1,
   "metadata": {},
   "outputs": [],
   "source": []
  },
  {
   "cell_type": "markdown",
   "metadata": {},
   "source": [
    "# Numpy \n",
    "\n",
    "Use the data from Beehive_data.csv to find the distance to the Beehive Cluster. Read on ahead to find out more about the concepts in astronomy you will need to solve this.\n",
    "\n",
    "Data downloaded from [VizieR](https://cdsarc.unistra.fr/viz-bin/cat/V/19), from data used in [Piskunov 1980](https://ui.adsabs.harvard.edu/?#abs/1980BICDS..19...67P)\n",
    "\n",
    "## Magnitudes in Astronomy\n",
    "\n",
    "Magnitudes are a way to describe how bright an object (in our case, a star) is. It is similar to the decibel system for sound in that magnitudes are logarithmic. They can be calculated according to the formula $$\\rm m = -2.5 \\log\\left(\\frac{F}{F_0}\\right)$$ where F is the flux from the star (measured in W m$^{-2}$), and F$_0$ is a reference flux.\n",
    "\n",
    "Now, we can calculate the flux of a star at some distance d away as $$ F = \\frac{L}{4\\pi d^2} $$ where L is the Luminosity of the star (measured in W).\n",
    "\n",
    "There are a lot of details we have skimmed over (for example, the use of filters) which we will visit again in more detail in Tutorial 8: Image Reduction.\n",
    "\n",
    "As a final note on the data you have been given in Beehive_data.csv, the columns are respectively the apparent magnitude of the stars as seen from Earth, the logarithm of the Luminosity(in units of Luminosity of the Sun) of the stars (i.e. $\\log(L/L_\\odot)$, where $L_\\odot$ is the luminosity of the sun), and the probability that the star belongs to the Beehive Cluster.\n",
    "\n",
    "You must find the distance to the cluster (you are given that the absolute magnitude of the Sun is +4.83). You can do this in two ways:\n",
    "\n",
    "  -  Exclude all the stars with low probability of belonging to the cluster, and then calculate distance for each star, and find the mean.\n",
    "  -  Find the distance for all stars (including the low probability ones) and find the weighted average of the distances, where the weights are the probability."
   ]
  },
  {
   "cell_type": "code",
   "execution_count": null,
   "metadata": {},
   "outputs": [],
   "source": []
  }
 ],
 "metadata": {
  "kernelspec": {
   "display_name": "Python 3",
   "language": "python",
   "name": "python3"
  },
  "language_info": {
   "codemirror_mode": {
    "name": "ipython",
    "version": 3
   },
   "file_extension": ".py",
   "mimetype": "text/x-python",
   "name": "python",
   "nbconvert_exporter": "python",
   "pygments_lexer": "ipython3",
   "version": "3.6.9"
  }
 },
 "nbformat": 4,
 "nbformat_minor": 4
}
