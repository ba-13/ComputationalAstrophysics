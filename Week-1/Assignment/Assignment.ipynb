{
 "cells": [
  {
   "cell_type": "markdown",
   "metadata": {},
   "source": [
    "# Week 1 : Assignment\n",
    "\n",
    "<p align=\"centre\">\n",
    "<img src=\"../assets/meme5.jpg\" width=\"400\">\n",
    "</p>\n",
    "\n",
    "We know it hurts, and the single most thing going on in your head right now is\n",
    "\n",
    "<p align=\"centre\">\n",
    "<img src=\"../assets/meme6.jpeg\" width=\"400\">\n",
    "</p>\n",
    "\n",
    "But relax! The asssignment questions are fun and easy, unlike your mookit ones. Feel the motive behind the question and use the recently acquired learning of different libraries to ultimately solve them. Stuck on some function? Feel free to google it. But the _**recommended way**_ is to harness the power of Jupyter notebooks!\n",
    "\n",
    "- Place the cursor inside the parenthesis of the function, say `np.sum()`, hold down shift , and press tab.\n",
    "- Or type a function name with a question mark after it, like\n",
    "    ```python\n",
    "    import numpy as np\n",
    "    np.sum?\n",
    "    ```\n",
    "    \n",
    "With this little tool kept in mind, let's proceed!"
   ]
  },
  {
   "cell_type": "markdown",
   "metadata": {},
   "source": [
    "# 1. Python Basics and Numpy \n",
    "\n",
    "Use the data from Starfish_Data.csv to find the distance to the [Starfish Cluster](https://en.wikipedia.org/wiki/Messier_38). Also known as M38 or NGC1912, the Starfish Cluster is an open cluster of stars in the constellation Auriga. Read on ahead to find out more about the concepts in astronomy you will need to solve this.\n",
    "\n",
    "Data downloaded from [VizieR](https://cdsarc.unistra.fr/viz-bin/cat/V/19), from data used in [Piskunov 1980](https://ui.adsabs.harvard.edu/?#abs/1980BICDS..19...67P)\n",
    "\n",
    "## Distance to Starfish Cluster\n",
    "\n",
    "Magnitudes are a way to describe how bright an object (in our case, a star) is. It is similar to the decibel system for sound in that magnitudes are logarithmic. They can be calculated according to the formula $$\\rm m = -2.5 \\log\\left(\\frac{F}{F_0}\\right)$$ where m = apparent magnitude, F is the flux from the star (measured in W m$^{-2}$), and F$_0$ is a reference flux.\n",
    "\n",
    "Now, we can calculate the flux of a star at some distance d away as $$ F = \\frac{L}{4\\pi d^2} $$ where L is the Luminosity of the star (measured in W) and d is the distance to the cluster in parsecs.\n",
    "\n",
    "Using some substitution and rearrangement and taking $L_\\odot$ to be the luminosity of the sun  we arrive at the formula: $$ log(d) = \\frac{1}{5}[m + 2.5log(\\frac{L}{L_\\odot}) + 0.17]$$\n",
    "\n",
    "> The data of Starfish Cluster is provided to you in the following format:\n",
    "\n",
    "| Column        |        Explanation|\n",
    "| ------------- |:-------------|\n",
    "| Vmag          | Apparent Visual Magnitude (as seen from earth) |\n",
    "| logL          | Logarithm of the Luminosity (in $L_\\odot$)|\n",
    "| Prob          | Probability that the star belongs to the Cluster|\n",
    "\n",
    "\n",
    "\n",
    "#### You need to find the distance to Starfish Cluster (in parsecs) using the data provided. You can calculate it using the following 2 methods:\n",
    "\n",
    "  -  Exclude all the stars with low probability of belonging to the cluster, and then calculate distance for each star, and find the mean.\n",
    "  -  Find the distance for all stars (including the low probability ones) and find the weighted average of the distances, where the weights are the probability."
   ]
  },
  {
   "cell_type": "code",
   "execution_count": null,
   "metadata": {},
   "outputs": [],
   "source": []
  },
  {
   "cell_type": "markdown",
   "metadata": {},
   "source": [
    "# 2. Pandas and Matplotlib\n",
    "\n",
    "IIT Kanpur achieved a milestone at the Inter-IIT Tech Meet 2021 becoming the first institute to win the prestigious competition for the fourth time, a feat unrivaled so far. Our team comprising of Som, Kartikeya, Varun-1, Gurbaaz, Saad, Varun-2 and Mubashshir represented IITK in the ISRO problem statement and secured the Silver Medal for excellence and third position overall. Our challenge was to design a web based visualization tool for AstroSAT observations. Read more about the problem statement [here](https://interiit-tech.org/events/isro_astrosat).\n",
    "\n",
    "## Catalog of High and Low Mass X-ray Binaries\n",
    "\n",
    "Your challenge would be to make a primitive **map of the same catalog** using Matplotlib which will aid Astronomers in their research. You must use Matplotlib and take the help of 'Mollweide' projection which is frequently used in Geography and Astronomy. The world maps you commonly see are in 'Mollweide' projection. A modified version of the same catalog has been provided to you. The coordinates are in ICRS (J2000). \n",
    "\n",
    "<p align=\"centre\">\n",
    "<img src=\"../assets/img7.jpg\" width=\"400\">\n",
    "</p>\n",
    "\n",
    "\n",
    "> 1. Show HMXB (High Mass X-Ray Binaries) and (Low Mass X-Ray Binaries) on different subplots\n",
    "> 2. Show sources observed by AstroSAT (flag = 1) and sources not observed by AstroSAT (flag = 0) on different sublots\n",
    "> 3. Show a combined plot using different colors or markers\n",
    "\n",
    "Notice anything interesting about the plot?\n",
    "\n",
    "### Also find out the number of HMXB and LMXB and the coordinates of 'Granat 1915+105' using Pandas. \n",
    "\n",
    "Things to ponder over:\n",
    "> SIMBAD_Names have been resolved using the coordinates with the help of `astroquery.simbad()` and is accurate upto **2 arcmin**. Do you think this a good resolution or a bad resolution for a catalog? If you think this is a bad resolution, what could be the possible reasons?\n",
    "\n",
    "You may take the help of the internet (obviously). To get some free codes and a basic idea about how to plot Mollweide projection using Matplotlib you can go through this previous project by one of your mentors Saad who plotted a map of stars using HYG Data [here](https://github.com/saad369/Sky_Chart_from_hygdata).\n"
   ]
  },
  {
   "cell_type": "code",
   "execution_count": null,
   "metadata": {},
   "outputs": [],
   "source": []
  }
 ],
 "metadata": {
  "kernelspec": {
   "display_name": "Python 3",
   "language": "python",
   "name": "python3"
  },
  "language_info": {
   "codemirror_mode": {
    "name": "ipython",
    "version": 3
   },
   "file_extension": ".py",
   "mimetype": "text/x-python",
   "name": "python",
   "nbconvert_exporter": "python",
   "pygments_lexer": "ipython3",
   "version": "3.8.2"
  }
 },
 "nbformat": 4,
 "nbformat_minor": 4
}
