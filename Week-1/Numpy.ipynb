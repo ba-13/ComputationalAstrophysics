{
 "cells": [
  {
   "cell_type": "markdown",
   "id": "f7fd0840",
   "metadata": {},
   "source": [
    "# 10 Numpy exercises\n",
    "\n",
    "This [kaggle link](https://www.kaggle.com/utsav15/100-numpy-exercises) is a collection of exercises that have been collected in the numpy mailing list, on stack overflow and in the numpy documentation. The goal of this collection is to offer a quick reference for both old and new users but also to provide a set of exercises for those who teach.\n",
    "\n",
    "\n",
    "> **_NOTE_** : Although most of them are quite easy and one-liner, don't burden or stress youself to solve all of them. It may seem overwhelming, hence I have hand-picked 10 questions for you to try hands on.\n",
    "\n",
    "PS. Just kidding, no hand picking. Just ran\n",
    "```\n",
    "x = numpy.random.randint(100, size=(10))\n",
    ">>> array([13, 25, 26, 29, 30, 60, 62, 73, 89, 90])\n",
    "```\n",
    "And voila, you have the questions.🙃"
   ]
  },
  {
   "cell_type": "code",
   "execution_count": 1,
   "id": "23bcd822",
   "metadata": {},
   "outputs": [],
   "source": [
    "import numpy as np\n",
    "import random"
   ]
  },
  {
   "cell_type": "markdown",
   "id": "92cbefaa",
   "metadata": {},
   "source": [
    "#### 13. Create a 10x10 array with random values and find the minimum and maximum values (★☆☆)"
   ]
  },
  {
   "cell_type": "code",
   "execution_count": 2,
   "id": "41b01b91",
   "metadata": {},
   "outputs": [],
   "source": [
    "arr = np.random.randint(1, high=1000, size=100).reshape(10,10)"
   ]
  },
  {
   "cell_type": "code",
   "execution_count": 3,
   "id": "68f2565a",
   "metadata": {},
   "outputs": [
    {
     "data": {
      "text/plain": [
       "array([[482, 315, 164, 717, 397, 533, 789, 853, 580, 348],\n",
       "       [375, 906, 740, 206, 168, 454,  65, 688,  42, 871],\n",
       "       [723, 888, 159, 995, 988, 918,  60,  32, 486, 478],\n",
       "       [435,  99, 543, 624, 759, 661, 928, 713, 746, 514],\n",
       "       [467, 112,  21, 457, 123, 152, 536, 872, 693, 865],\n",
       "       [882, 290, 678, 937, 345, 760,  54, 578, 296, 712],\n",
       "       [423, 559, 429, 111,  96, 618, 617, 945, 475,  88],\n",
       "       [460, 961, 226, 613, 445, 512, 173, 954, 708, 911],\n",
       "       [480, 248, 708, 663, 864, 309, 516, 611, 792, 989],\n",
       "       [931, 413, 812, 920, 764, 116, 661, 192, 279,   7]])"
      ]
     },
     "execution_count": 3,
     "metadata": {},
     "output_type": "execute_result"
    }
   ],
   "source": [
    "arr"
   ]
  },
  {
   "cell_type": "code",
   "execution_count": 4,
   "id": "07e65571",
   "metadata": {},
   "outputs": [],
   "source": [
    "maxi = arr[0][0]\n",
    "mini = arr[0][0]\n",
    "for i in range(10):\n",
    "    for j in range(10):\n",
    "        if arr[i][j] > maxi:\n",
    "            maxi = arr[i][j]\n",
    "        if arr[i][j] < mini:\n",
    "            mini = arr[i][j] "
   ]
  },
  {
   "cell_type": "code",
   "execution_count": 5,
   "id": "50a5e86e",
   "metadata": {},
   "outputs": [
    {
     "name": "stdout",
     "output_type": "stream",
     "text": [
      "995 7\n"
     ]
    }
   ],
   "source": [
    "print(maxi, mini)"
   ]
  },
  {
   "cell_type": "markdown",
   "id": "c4bfe36e",
   "metadata": {},
   "source": [
    "#### 25. Given a 1D array, negate all elements which are between 3 and 8, in place. (★☆☆)"
   ]
  },
  {
   "cell_type": "code",
   "execution_count": 6,
   "id": "e3f8dc16",
   "metadata": {},
   "outputs": [],
   "source": [
    "arr2 = np.random.randint(1, high=1000, size=100)"
   ]
  },
  {
   "cell_type": "code",
   "execution_count": 7,
   "id": "d417f71f",
   "metadata": {},
   "outputs": [
    {
     "data": {
      "text/plain": [
       "array([439, 900, 981, 205, 861, 262, 630, 466, 513, 744, 477, 453, 942,\n",
       "       585, 817, 699,  17, 660, 105, 871, 252, 105, 678,  36, 487, 467,\n",
       "       623, 438,  59,  77, 578, 446,  83, 352, 322, 460, 233, 387, 881,\n",
       "       204, 749, 723, 634,   3, 859, 823, 737, 767, 759, 646, 156, 400,\n",
       "       113, 733, 811, 277, 697, 749,  51, 669, 323, 422, 826, 433, 415,\n",
       "       318, 527, 244, 975, 957, 174,  17,  19, 827, 258,  95,  90, 205,\n",
       "       310,  44, 647, 409, 439, 152, 903,  17, 779, 788, 546, 268, 286,\n",
       "       328, 494, 972, 765,  77, 983, 475, 971, 191])"
      ]
     },
     "execution_count": 7,
     "metadata": {},
     "output_type": "execute_result"
    }
   ],
   "source": [
    "arr2"
   ]
  },
  {
   "cell_type": "code",
   "execution_count": 8,
   "id": "51091c9f",
   "metadata": {},
   "outputs": [
    {
     "data": {
      "text/plain": [
       "array([439, 900, 981, 205, 861, 262, 630, 466, 513, 744, 477, 453, 942,\n",
       "       585, 817, 699,  17, 660, 105, 871, 252, 105, 678,  36, 487, 467,\n",
       "       623, 438,  59,  77, 578, 446,  83, 352, 322, 460, 233, 387, 881,\n",
       "       204, 749, 723, 634,   3, 859, 823, 737, 767, 759, 646, 156, 400,\n",
       "       113, 733, 811, 277, 697, 749,  51, 669, 323, 422, 826, 433, 415,\n",
       "       318, 527, 244, 975, 957, 174,  17,  19, 827, 258,  95,  90, 205,\n",
       "       310,  44, 647, 409, 439, 152, 903,  17, 779, 788, 546, 268, 286,\n",
       "       328, 494, 972, 765,  77, 983, 475, 971, 191])"
      ]
     },
     "execution_count": 8,
     "metadata": {},
     "output_type": "execute_result"
    }
   ],
   "source": [
    "for i,n in enumerate(arr2):\n",
    "    if n>3 and n<8:\n",
    "        arr2[i] = -arr2[i]\n",
    "arr2"
   ]
  },
  {
   "cell_type": "markdown",
   "id": "b3679741",
   "metadata": {},
   "source": [
    "#### 26. What is the output of the following script? (★☆☆)\n",
    "```python\n",
    "# Author: Jake VanderPlas\n",
    "\n",
    "print(sum(range(5),-1))\n",
    "from numpy import *\n",
    "print(sum(range(5),-1))\n",
    "```"
   ]
  },
  {
   "cell_type": "code",
   "execution_count": 9,
   "id": "8148b710",
   "metadata": {},
   "outputs": [
    {
     "data": {
      "text/plain": [
       "9"
      ]
     },
     "execution_count": 9,
     "metadata": {},
     "output_type": "execute_result"
    }
   ],
   "source": [
    "sum(range(5), -1)"
   ]
  },
  {
   "cell_type": "markdown",
   "id": "8d16fed1",
   "metadata": {},
   "source": [
    "#### 30. How to find common values between two arrays? (★☆☆)"
   ]
  },
  {
   "cell_type": "code",
   "execution_count": 10,
   "id": "3fd84e5a",
   "metadata": {},
   "outputs": [
    {
     "name": "stdout",
     "output_type": "stream",
     "text": [
      "[414 685 788 429  37 682 549 500   8 824 463 647 180 573 898  65 645 699\n",
      " 937 300 163 417 886 873 647 738 382 464  48 885  49 206 376 978  63  56\n",
      "  28 934 896 646 574 958 656  30 387 754 875 936 454 863 973 509  88  56\n",
      " 666 708 225 552 354 597 190 779 409 529 971 497 202 761 878 282 490 678\n",
      " 418 485 127 856  99 382  77 836 914  78 828 675  43 942 412 189 993 574\n",
      " 202 483 662 344 918 378 383 341  40 852] \n",
      " [517 456 836 631 624  49 639 188 617 162 529 461 678 363 743 721 299 918\n",
      " 123 848 371 971 990 299 295 929 109 648 296 550 429 415 421 973 614 746\n",
      " 290 854 939 844  49 655 704 132 997 465  86 724 510 297 213 115 426 203\n",
      " 313 678 186 941 215 159 225 453 568 423  60 428 456 458  71  37  55 702\n",
      " 365 731  72 929 707  17 756 128 404 972 816 978 532 602  57 290 855 888\n",
      " 533 405 732 101 356 297 844 881 780 368]\n"
     ]
    }
   ],
   "source": [
    "arr3 = np.random.randint(1, high=1000, size=100)\n",
    "arr4 = np.random.randint(1, high=1000, size=100)\n",
    "print(arr3,\"\\n\",arr4)"
   ]
  },
  {
   "cell_type": "code",
   "execution_count": 11,
   "id": "518da187",
   "metadata": {},
   "outputs": [
    {
     "name": "stdout",
     "output_type": "stream",
     "text": [
      "{225, 836, 37, 678, 971, 429, 973, 529, 49, 978, 918}\n"
     ]
    }
   ],
   "source": [
    "arr3_set = set(arr3)\n",
    "arr4_set = set(arr4)\n",
    "print(arr3_set & arr4_set)"
   ]
  },
  {
   "cell_type": "markdown",
   "id": "141a55ae",
   "metadata": {},
   "source": [
    "#### 60. How to tell if a given 2D array has null columns? (★★☆)"
   ]
  },
  {
   "cell_type": "code",
   "execution_count": 12,
   "id": "f1b91e66",
   "metadata": {},
   "outputs": [
    {
     "data": {
      "text/plain": [
       "array([[0, 1, 0, 0, 1, 1, 0, 1, 1, 0, 1, 0, 1, 0, 0, 1, 1, 1, 1, 0],\n",
       "       [1, 0, 0, 1, 1, 0, 1, 0, 1, 1, 1, 0, 0, 0, 1, 0, 0, 0, 0, 0],\n",
       "       [1, 0, 0, 1, 0, 1, 1, 0, 0, 1, 1, 1, 0, 1, 1, 1, 0, 0, 1, 1],\n",
       "       [0, 1, 1, 1, 0, 0, 0, 0, 1, 0, 0, 1, 0, 1, 1, 0, 0, 1, 0, 1],\n",
       "       [1, 0, 1, 1, 0, 1, 1, 1, 0, 0, 1, 0, 1, 1, 1, 0, 1, 0, 0, 1]])"
      ]
     },
     "execution_count": 12,
     "metadata": {},
     "output_type": "execute_result"
    }
   ],
   "source": [
    "arr4 = np.random.randint(0, high=2, size=100).reshape(5,20)\n",
    "arr4"
   ]
  },
  {
   "cell_type": "code",
   "execution_count": 13,
   "id": "3e074359",
   "metadata": {},
   "outputs": [],
   "source": [
    "(row, col) = arr4.shape"
   ]
  },
  {
   "cell_type": "code",
   "execution_count": 14,
   "id": "3af646a4",
   "metadata": {},
   "outputs": [],
   "source": [
    "count = 0\n",
    "for i in range(col):\n",
    "    for j in range(row):\n",
    "        if arr4[j][i]==0:\n",
    "            count+=1\n",
    "    if count == row:\n",
    "        print(i)\n",
    "    count=0"
   ]
  },
  {
   "cell_type": "markdown",
   "id": "aa874081",
   "metadata": {},
   "source": [
    "#### 62. Considering two arrays with shape (1,3) and (3,1), how to compute their sum using an iterator? (★★☆)"
   ]
  },
  {
   "cell_type": "code",
   "execution_count": 15,
   "id": "8900bec9",
   "metadata": {},
   "outputs": [],
   "source": [
    "arr5 = np.random.randint(1, 100, (1,3))\n",
    "arr6 = np.random.randint(1, 100, (3,1))"
   ]
  },
  {
   "cell_type": "code",
   "execution_count": 16,
   "id": "eaba7466",
   "metadata": {},
   "outputs": [
    {
     "name": "stdout",
     "output_type": "stream",
     "text": [
      "[[94 41 62]] \n",
      "\n",
      " [[92]\n",
      " [12]\n",
      " [74]]\n"
     ]
    }
   ],
   "source": [
    "print(arr5, \"\\n\\n\", arr6)"
   ]
  },
  {
   "cell_type": "code",
   "execution_count": 17,
   "id": "d9ce0b48",
   "metadata": {},
   "outputs": [],
   "source": [
    "# how do you add 2 distinctly sized arrays?! like mendel's matching boxes xD\n",
    "arr7 = np.zeros((3,3))\n",
    "for i in range(3):\n",
    "    arr7[0][i]+=arr6[i]\n",
    "    arr7[i][0]+=arr5[0][i]\n",
    "arr7 = arr7.T"
   ]
  },
  {
   "cell_type": "code",
   "execution_count": 18,
   "id": "29a14e55",
   "metadata": {},
   "outputs": [],
   "source": [
    "row, col = arr7.shape"
   ]
  },
  {
   "cell_type": "code",
   "execution_count": 19,
   "id": "504b27db",
   "metadata": {
    "scrolled": true
   },
   "outputs": [
    {
     "data": {
      "text/plain": [
       "array([[186.,  41.,  62.],\n",
       "       [ 12.,  53.,  74.],\n",
       "       [ 74., 115., 136.]])"
      ]
     },
     "execution_count": 19,
     "metadata": {},
     "output_type": "execute_result"
    }
   ],
   "source": [
    "for i in range(1, row):\n",
    "    for j in range(1, col):\n",
    "        arr7[i][j]= arr7[i][0] + arr7[0][j]\n",
    "arr7"
   ]
  },
  {
   "cell_type": "code",
   "execution_count": 20,
   "id": "1b1be68a",
   "metadata": {},
   "outputs": [
    {
     "name": "stdout",
     "output_type": "stream",
     "text": [
      "[[0 1 2]\n",
      " [1 2 3]\n",
      " [2 3 4]]\n"
     ]
    }
   ],
   "source": [
    "# Solution\n",
    "A = np.arange(3).reshape(3,1)\n",
    "B = np.arange(3).reshape(1,3)\n",
    "it = np.nditer([A,B,None])\n",
    "for x,y,z in it: z[...] = x + y\n",
    "print(it.operands[2])"
   ]
  },
  {
   "cell_type": "markdown",
   "id": "fe04ace3",
   "metadata": {},
   "source": [
    "#### 73. Consider a set of 10 triplets describing 10 triangles (with shared vertices), find the set of unique line segments composing all the  triangles (★★★)"
   ]
  },
  {
   "cell_type": "code",
   "execution_count": 21,
   "id": "2815bf3e",
   "metadata": {},
   "outputs": [
    {
     "data": {
      "text/plain": [
       "array([[13, 64, 82],\n",
       "       [84, 76,  6],\n",
       "       [ 7, 50, 54],\n",
       "       [ 2, 95, 88],\n",
       "       [98, 42, 24],\n",
       "       [58, 78, 60],\n",
       "       [ 9, 29, 57],\n",
       "       [43,  6, 69],\n",
       "       [77, 22, 74],\n",
       "       [91, 46, 25]])"
      ]
     },
     "execution_count": 21,
     "metadata": {},
     "output_type": "execute_result"
    }
   ],
   "source": [
    "arr8 = np.random.randint(1,100,(10,3))\n",
    "arr8"
   ]
  },
  {
   "cell_type": "code",
   "execution_count": 22,
   "id": "94e5cd9a",
   "metadata": {},
   "outputs": [],
   "source": [
    "# didn't understand the meaning of composing"
   ]
  },
  {
   "cell_type": "markdown",
   "id": "bc754e6f",
   "metadata": {},
   "source": [
    "#### 89. How to get the n largest values of an array (★★★)"
   ]
  },
  {
   "cell_type": "code",
   "execution_count": 23,
   "id": "aaa460be",
   "metadata": {
    "scrolled": true
   },
   "outputs": [
    {
     "data": {
      "text/plain": [
       "array([85,  4, 91, 46, 86, 51, 74, 33, 14, 77, 45, 53, 93, 37, 52, 56, 83,\n",
       "       66, 75, 88, 34, 47, 98, 87,  9, 28, 78, 97, 12, 73, 79, 48, 88, 58,\n",
       "       45, 84, 25, 54, 64, 58, 56, 23, 85, 87, 76, 99, 55, 39, 77, 24,  5,\n",
       "       83, 68, 25, 33, 39, 74,  5, 78,  5, 98,  9, 81, 65, 50,  9, 72, 13,\n",
       "       64, 85, 49, 70, 47, 30, 43, 67,  9, 68, 65, 83, 94, 29, 64, 80, 68,\n",
       "       85, 36, 41, 84, 27, 46, 15, 53, 36,  4, 31, 15, 80, 39, 66, 72, 74,\n",
       "       97, 69,  8, 90, 75, 11, 80,  8, 99, 96, 73, 66, 72, 51, 51, 42, 91,\n",
       "        5, 51, 18, 29, 37, 24, 94, 18, 23, 91, 95, 35, 11, 10, 88, 11,  3,\n",
       "       48, 74, 16, 79, 41, 54, 11, 82, 14, 94, 92, 62,  2, 10,  1, 62, 13,\n",
       "       35, 30, 96, 29, 16, 82, 15, 32, 54, 90, 70, 82, 41, 64, 52, 67, 81,\n",
       "       51, 58,  9, 89, 77, 69, 62, 58, 81, 30, 28, 83, 90, 25, 42, 27, 28,\n",
       "       50, 40, 17, 90, 39, 95, 95, 89, 79,  6, 90, 45, 34, 22, 10, 49, 80,\n",
       "       23, 36, 74, 93, 55, 29, 92,  3, 11, 87, 71, 13, 62, 94, 12, 82,  8,\n",
       "        4,  1, 46, 53, 80,  2, 35, 53, 76, 36, 49,  7, 71, 67, 31,  7, 71,\n",
       "       97, 17,  5, 61, 93, 16,  4, 11, 57, 61,  8, 28, 10, 81, 84, 18, 53,\n",
       "       21, 16,  5, 30, 85, 86, 76, 33, 70, 84, 14, 74, 67, 32, 90, 20, 35,\n",
       "       11, 90,  9, 54, 72, 16, 31, 60, 67, 83, 88,  6, 94, 64, 80,  4,  6,\n",
       "       27, 88, 16, 73, 51,  3, 12, 86, 67, 59, 87, 71, 34, 19, 65, 84, 74,\n",
       "       66, 42, 39, 70, 62,  6, 52, 69, 86, 83, 80, 83, 36, 56, 71, 65, 85,\n",
       "       85, 28, 79, 45, 43, 49,  9, 71, 58, 44, 94, 27, 55, 83, 23, 84, 82,\n",
       "       59, 58, 92, 23, 60, 11, 30, 49, 55, 85, 48, 53, 73, 55, 88,  8, 62,\n",
       "       50, 27,  3, 12, 15, 16, 56, 90, 97, 67, 64, 84, 45, 79, 13, 28, 70,\n",
       "       32, 29, 88, 30, 36, 55, 16,  1, 68, 59, 95, 98, 20, 89, 22, 82, 85,\n",
       "        1, 78, 42,  1, 17, 38, 21, 10, 70, 90, 49, 27, 73,  6, 50, 22, 80,\n",
       "       25, 90, 51, 77, 42, 27, 78, 86, 14, 68, 38, 46, 97,  1, 83, 35, 52,\n",
       "       52, 11,  5, 65, 81, 16, 89, 39, 49,  8, 48, 77, 81, 50, 27, 29, 13,\n",
       "       33, 39,  4, 37, 29, 16, 62, 16,  8, 38, 81, 74,  3, 19, 41,  5, 60,\n",
       "       84, 21, 67, 47, 66, 50, 47, 38, 40,  1, 31, 19, 16, 59, 72, 34, 34,\n",
       "       42, 78, 75, 87,  7, 36, 46, 17, 33, 42, 73, 33, 38, 71, 80, 88, 58,\n",
       "       28, 13, 29, 35, 46, 79, 25, 72,  9, 26, 87, 18, 77, 14, 51, 51, 86,\n",
       "       43, 94, 92, 15, 30,  5, 34, 36, 90, 41,  6, 58,  5, 15, 98, 83, 44,\n",
       "       86, 98,  8, 73,  4,  5, 71, 92, 69,  4,  9, 91, 57, 99, 30, 92, 78,\n",
       "       44, 22, 67, 11, 49, 43, 27, 73, 64, 41, 61, 60, 54, 91, 34, 76, 62,\n",
       "       61, 21,  3, 67, 78, 29, 48, 50, 46,  9, 13, 48, 34, 58, 61, 57, 65,\n",
       "       26, 14, 35, 87, 92, 81, 26, 15, 60, 18, 89, 75, 18, 28, 73, 46, 33,\n",
       "       16, 62, 76, 95, 87, 87, 94, 17, 88,  6, 88, 18, 50,  1, 25, 33,  3,\n",
       "       80, 48, 28, 69, 72, 24, 92, 89, 36, 92, 29, 64, 79, 39, 85, 18, 20,\n",
       "       81, 82, 81, 50, 34, 66,  7, 43, 79, 40, 84, 44, 68, 28, 26, 81, 56,\n",
       "       62, 12, 89, 90, 30, 16, 59, 71, 28, 17, 58, 57, 22, 35, 68, 48, 17,\n",
       "       77, 85,  8, 67, 39, 28,  5, 88, 10, 76, 84,  9, 58, 33,  9, 50, 82,\n",
       "       56, 80, 74, 58, 26, 79, 64, 62, 61, 83, 89, 54, 16,  4, 29, 12, 31,\n",
       "       28, 55, 39, 72, 86, 35, 39, 90, 16, 21, 29, 70,  2, 55, 71, 24, 85,\n",
       "       63, 71,  3, 51, 68,  1, 51, 15, 99, 77, 18, 89, 83, 71, 67, 55, 74,\n",
       "       88, 14, 32, 55, 96, 17,  6, 69, 83, 94, 21, 26, 90, 55, 74, 76, 72,\n",
       "       70,  2,  8, 11, 25, 80, 41, 36, 99, 32, 63, 89, 82, 71, 64, 84, 66,\n",
       "       29, 36, 55, 53, 45, 38, 48, 64,  6, 88, 89,  4, 63, 90, 92, 10,  5,\n",
       "       19, 45, 24, 73, 68,  5, 72, 77, 70, 47, 94, 90, 69,  4, 10, 64, 12,\n",
       "       70, 58, 24,  2, 97, 86, 88, 72, 40, 58, 18, 99, 27, 80, 10, 98, 38,\n",
       "       52, 74, 84, 39, 76, 26, 95, 27, 29, 75, 90, 52, 53, 61, 19, 64, 73,\n",
       "       48,  4, 65, 32, 60, 76, 97, 38, 37,  8, 86, 55, 47, 50,  2, 95,  2,\n",
       "       91, 58, 80,  9, 16, 80, 13, 60, 93, 45,  3, 92, 20,  6, 49, 27, 87,\n",
       "       17, 17,  4, 76,  3, 90, 24, 65, 54, 23, 42, 54, 84, 21, 22, 96, 93,\n",
       "       91, 44, 89,  1, 26, 93, 69, 14, 94, 43, 39, 79, 99, 89, 47, 93, 85,\n",
       "       26, 64, 72, 75,  5, 56, 78, 27, 11,  1, 77, 87, 60, 96,  3, 19, 67,\n",
       "       19, 63, 93, 55, 91, 19, 15, 14, 35, 47, 85, 68, 56, 14, 70, 22, 86,\n",
       "       31,  9, 76,  6, 82, 34,  9, 68, 11, 56, 72, 44, 77, 55,  8, 86, 93,\n",
       "       95, 79, 51,  9, 25,  4, 42, 29,  9,  8, 25, 71,  8, 81, 21, 86, 69,\n",
       "       92, 53, 39, 79, 66, 92, 49, 67, 90, 72, 29, 88, 62, 36, 95, 66, 57,\n",
       "       13,  1, 60, 10, 66, 61, 75, 32, 72, 28, 64, 50,  6, 88])"
      ]
     },
     "execution_count": 23,
     "metadata": {},
     "output_type": "execute_result"
    }
   ],
   "source": [
    "arr9 = np.random.randint(1, 100, 1000)\n",
    "arr9"
   ]
  },
  {
   "cell_type": "code",
   "execution_count": 24,
   "id": "b830c902",
   "metadata": {
    "scrolled": true
   },
   "outputs": [
    {
     "data": {
      "text/plain": [
       "array([ 1,  1,  1,  1,  1,  1,  1,  1,  1,  1,  1,  1,  2,  2,  2,  2,  2,\n",
       "        2,  2,  3,  3,  3,  3,  3,  3,  3,  3,  3,  3,  3,  4,  4,  4,  4,\n",
       "        4,  4,  4,  4,  4,  4,  4,  4,  4,  4,  5,  5,  5,  5,  5,  5,  5,\n",
       "        5,  5,  5,  5,  5,  5,  5,  5,  6,  6,  6,  6,  6,  6,  6,  6,  6,\n",
       "        6,  6,  6,  7,  7,  7,  7,  8,  8,  8,  8,  8,  8,  8,  8,  8,  8,\n",
       "        8,  8,  8,  8,  9,  9,  9,  9,  9,  9,  9,  9,  9,  9,  9,  9,  9,\n",
       "        9,  9,  9,  9, 10, 10, 10, 10, 10, 10, 10, 10, 10, 10, 11, 11, 11,\n",
       "       11, 11, 11, 11, 11, 11, 11, 11, 11, 11, 12, 12, 12, 12, 12, 12, 12,\n",
       "       13, 13, 13, 13, 13, 13, 13, 13, 13, 14, 14, 14, 14, 14, 14, 14, 14,\n",
       "       14, 14, 15, 15, 15, 15, 15, 15, 15, 15, 15, 16, 16, 16, 16, 16, 16,\n",
       "       16, 16, 16, 16, 16, 16, 16, 16, 16, 16, 16, 17, 17, 17, 17, 17, 17,\n",
       "       17, 17, 17, 17, 18, 18, 18, 18, 18, 18, 18, 18, 18, 18, 19, 19, 19,\n",
       "       19, 19, 19, 19, 19, 20, 20, 20, 20, 21, 21, 21, 21, 21, 21, 21, 21,\n",
       "       22, 22, 22, 22, 22, 22, 22, 23, 23, 23, 23, 23, 23, 24, 24, 24, 24,\n",
       "       24, 24, 24, 25, 25, 25, 25, 25, 25, 25, 25, 25, 26, 26, 26, 26, 26,\n",
       "       26, 26, 26, 26, 27, 27, 27, 27, 27, 27, 27, 27, 27, 27, 27, 27, 27,\n",
       "       28, 28, 28, 28, 28, 28, 28, 28, 28, 28, 28, 28, 28, 28, 29, 29, 29,\n",
       "       29, 29, 29, 29, 29, 29, 29, 29, 29, 29, 29, 29, 29, 30, 30, 30, 30,\n",
       "       30, 30, 30, 30, 30, 31, 31, 31, 31, 31, 31, 32, 32, 32, 32, 32, 32,\n",
       "       32, 33, 33, 33, 33, 33, 33, 33, 33, 33, 34, 34, 34, 34, 34, 34, 34,\n",
       "       34, 34, 34, 35, 35, 35, 35, 35, 35, 35, 35, 35, 35, 36, 36, 36, 36,\n",
       "       36, 36, 36, 36, 36, 36, 36, 36, 37, 37, 37, 37, 38, 38, 38, 38, 38,\n",
       "       38, 38, 38, 39, 39, 39, 39, 39, 39, 39, 39, 39, 39, 39, 39, 39, 39,\n",
       "       40, 40, 40, 40, 41, 41, 41, 41, 41, 41, 41, 42, 42, 42, 42, 42, 42,\n",
       "       42, 42, 42, 43, 43, 43, 43, 43, 43, 44, 44, 44, 44, 44, 44, 45, 45,\n",
       "       45, 45, 45, 45, 45, 45, 46, 46, 46, 46, 46, 46, 46, 46, 47, 47, 47,\n",
       "       47, 47, 47, 47, 47, 48, 48, 48, 48, 48, 48, 48, 48, 48, 48, 49, 49,\n",
       "       49, 49, 49, 49, 49, 49, 49, 49, 50, 50, 50, 50, 50, 50, 50, 50, 50,\n",
       "       50, 50, 50, 51, 51, 51, 51, 51, 51, 51, 51, 51, 51, 51, 51, 52, 52,\n",
       "       52, 52, 52, 52, 52, 53, 53, 53, 53, 53, 53, 53, 53, 53, 54, 54, 54,\n",
       "       54, 54, 54, 54, 54, 55, 55, 55, 55, 55, 55, 55, 55, 55, 55, 55, 55,\n",
       "       55, 55, 55, 56, 56, 56, 56, 56, 56, 56, 56, 56, 57, 57, 57, 57, 57,\n",
       "       58, 58, 58, 58, 58, 58, 58, 58, 58, 58, 58, 58, 58, 58, 58, 59, 59,\n",
       "       59, 59, 59, 60, 60, 60, 60, 60, 60, 60, 60, 60, 61, 61, 61, 61, 61,\n",
       "       61, 61, 61, 62, 62, 62, 62, 62, 62, 62, 62, 62, 62, 62, 62, 63, 63,\n",
       "       63, 63, 64, 64, 64, 64, 64, 64, 64, 64, 64, 64, 64, 64, 64, 64, 64,\n",
       "       65, 65, 65, 65, 65, 65, 65, 65, 66, 66, 66, 66, 66, 66, 66, 66, 66,\n",
       "       66, 67, 67, 67, 67, 67, 67, 67, 67, 67, 67, 67, 67, 67, 67, 68, 68,\n",
       "       68, 68, 68, 68, 68, 68, 68, 68, 68, 69, 69, 69, 69, 69, 69, 69, 69,\n",
       "       69, 70, 70, 70, 70, 70, 70, 70, 70, 70, 70, 70, 71, 71, 71, 71, 71,\n",
       "       71, 71, 71, 71, 71, 71, 71, 71, 71, 72, 72, 72, 72, 72, 72, 72, 72,\n",
       "       72, 72, 72, 72, 72, 72, 72, 73, 73, 73, 73, 73, 73, 73, 73, 73, 73,\n",
       "       73, 74, 74, 74, 74, 74, 74, 74, 74, 74, 74, 74, 74, 75, 75, 75, 75,\n",
       "       75, 75, 75, 76, 76, 76, 76, 76, 76, 76, 76, 76, 76, 76, 77, 77, 77,\n",
       "       77, 77, 77, 77, 77, 77, 77, 77, 78, 78, 78, 78, 78, 78, 78, 78, 79,\n",
       "       79, 79, 79, 79, 79, 79, 79, 79, 79, 79, 79, 80, 80, 80, 80, 80, 80,\n",
       "       80, 80, 80, 80, 80, 80, 80, 80, 80, 81, 81, 81, 81, 81, 81, 81, 81,\n",
       "       81, 81, 81, 81, 82, 82, 82, 82, 82, 82, 82, 82, 82, 82, 83, 83, 83,\n",
       "       83, 83, 83, 83, 83, 83, 83, 83, 83, 83, 84, 84, 84, 84, 84, 84, 84,\n",
       "       84, 84, 84, 84, 84, 84, 85, 85, 85, 85, 85, 85, 85, 85, 85, 85, 85,\n",
       "       85, 85, 85, 86, 86, 86, 86, 86, 86, 86, 86, 86, 86, 86, 86, 86, 87,\n",
       "       87, 87, 87, 87, 87, 87, 87, 87, 87, 87, 88, 88, 88, 88, 88, 88, 88,\n",
       "       88, 88, 88, 88, 88, 88, 88, 88, 88, 89, 89, 89, 89, 89, 89, 89, 89,\n",
       "       89, 89, 89, 89, 89, 90, 90, 90, 90, 90, 90, 90, 90, 90, 90, 90, 90,\n",
       "       90, 90, 90, 90, 90, 90, 90, 91, 91, 91, 91, 91, 91, 91, 91, 92, 92,\n",
       "       92, 92, 92, 92, 92, 92, 92, 92, 92, 92, 92, 93, 93, 93, 93, 93, 93,\n",
       "       93, 93, 93, 94, 94, 94, 94, 94, 94, 94, 94, 94, 94, 94, 95, 95, 95,\n",
       "       95, 95, 95, 95, 95, 95, 96, 96, 96, 96, 96, 97, 97, 97, 97, 97, 97,\n",
       "       97, 98, 98, 98, 98, 98, 98, 99, 99, 99, 99, 99, 99, 99])"
      ]
     },
     "execution_count": 24,
     "metadata": {},
     "output_type": "execute_result"
    }
   ],
   "source": [
    "arr9.sort()\n",
    "arr9"
   ]
  },
  {
   "cell_type": "code",
   "execution_count": 25,
   "id": "2fb9ac01",
   "metadata": {},
   "outputs": [
    {
     "data": {
      "text/plain": [
       "array([99, 99])"
      ]
     },
     "execution_count": 25,
     "metadata": {},
     "output_type": "execute_result"
    }
   ],
   "source": [
    "n = 2\n",
    "arr9[-n:]"
   ]
  },
  {
   "cell_type": "markdown",
   "id": "c60ab645",
   "metadata": {},
   "source": [
    "#### 90. Given an arbitrary number of vectors, build the cartesian product (every combinations of every item) (★★★)"
   ]
  },
  {
   "cell_type": "code",
   "execution_count": 26,
   "id": "3ca4f296",
   "metadata": {},
   "outputs": [],
   "source": [
    "vecNumber = 5\n",
    "dim = 4\n",
    "arr10 = np.random.random((vecNumber, dim))*10\n",
    "# vectors in each row"
   ]
  },
  {
   "cell_type": "code",
   "execution_count": 27,
   "id": "e9012578",
   "metadata": {},
   "outputs": [
    {
     "data": {
      "text/plain": [
       "array([[3.23674833, 6.61846755, 6.24314777, 7.49927481],\n",
       "       [5.87195013, 0.3839236 , 0.3243313 , 5.16477065],\n",
       "       [7.68082593, 5.16186552, 0.74785166, 7.16048516],\n",
       "       [3.80958366, 5.94903075, 0.50269832, 3.48526883],\n",
       "       [9.91102538, 3.66696372, 1.66584613, 1.31917892]])"
      ]
     },
     "execution_count": 27,
     "metadata": {},
     "output_type": "execute_result"
    }
   ],
   "source": [
    "arr10"
   ]
  },
  {
   "cell_type": "code",
   "execution_count": 28,
   "id": "6a0912a5",
   "metadata": {
    "scrolled": true
   },
   "outputs": [
    {
     "name": "stdout",
     "output_type": "stream",
     "text": [
      "vec0 with vec0 yields 149.4966692878018\n",
      "vec0 with vec1 yields 62.303893328461086\n",
      "vec0 with vec2 yields 117.39193436354927\n",
      "vec0 with vec3 yields 80.97953922376209\n",
      "vec0 with vec4 yields 76.64218393141117\n",
      "vec1 with vec0 yields 62.303893328461086\n",
      "vec1 with vec1 yields 61.407242326741454\n",
      "vec1 with vec2 yields 84.30800409880202\n",
      "vec1 with vec3 yields 42.817313521546794\n",
      "vec1 with vec4 yields 66.95842325010193\n",
      "vec2 with vec0 yields 117.39193436354927\n",
      "vec2 with vec1 yields 84.30800409880202\n",
      "vec2 with vec2 yields 137.47177243498516\n",
      "vec2 with vec3 yields 85.30100519473822\n",
      "vec2 with vec4 yields 105.74500112734218\n",
      "vec3 with vec0 yields 80.97953922376209\n",
      "vec3 with vec1 yields 42.817313521546794\n",
      "vec3 with vec2 yields 85.30100519473822\n",
      "vec3 with vec3 yields 62.30369900410358\n",
      "vec3 with vec4 yields 65.00687147811401\n",
      "vec4 with vec0 yields 76.64218393141117\n",
      "vec4 with vec1 yields 66.95842325010193\n",
      "vec4 with vec2 yields 105.74500112734218\n",
      "vec4 with vec3 yields 65.00687147811401\n",
      "vec4 with vec4 yields 116.1903232043022\n"
     ]
    }
   ],
   "source": [
    "for i in range(vecNumber):\n",
    "    for j in range(vecNumber):\n",
    "        dot = sum(arr10[i]*arr10[j])\n",
    "        print(\"vec{} with vec{} yields {}\".format(i, j, dot))"
   ]
  },
  {
   "cell_type": "markdown",
   "id": "d106bcb3",
   "metadata": {},
   "source": [
    "These are some common np functions.\n",
    "np.linspace\n",
    "np.arange\n",
    "np.loadtxt\n",
    "np.random"
   ]
  }
 ],
 "metadata": {
  "kernelspec": {
   "display_name": "Python 3",
   "language": "python",
   "name": "python3"
  },
  "language_info": {
   "codemirror_mode": {
    "name": "ipython",
    "version": 3
   },
   "file_extension": ".py",
   "mimetype": "text/x-python",
   "name": "python",
   "nbconvert_exporter": "python",
   "pygments_lexer": "ipython3",
   "version": "3.8.8"
  }
 },
 "nbformat": 4,
 "nbformat_minor": 5
}
